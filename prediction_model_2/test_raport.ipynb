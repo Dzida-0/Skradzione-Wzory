{
 "cells": [
  {
   "cell_type": "code",
   "execution_count": 8,
   "outputs": [],
   "source": [
    "from model import Model"
   ],
   "metadata": {
    "collapsed": false
   }
  },
  {
   "cell_type": "code",
   "execution_count": 9,
   "outputs": [],
   "source": [
    "mod = Model()\n",
    "mod.load_model('saved_models/test_generate_21_f_256_1024_o256_e20')"
   ],
   "metadata": {
    "collapsed": false
   }
  },
  {
   "cell_type": "code",
   "execution_count": 10,
   "outputs": [],
   "source": [
    "d = mod.predict_from_latex('predict_latex/4.tex')"
   ],
   "metadata": {
    "collapsed": false
   }
  },
  {
   "cell_type": "code",
   "execution_count": 11,
   "outputs": [
    {
     "data": {
      "text/plain": "                                                 text   predict\n0   a4paper,10pt beamer T1,plmath polski cp1250 in...  1.000000\n1                Niech  m 0  bêdzie liczb¹ ca³kowit¹.  1.000000\n2                    Doln¹ silni¹  nazywamy wyra¿enie  1.000000\n3                    Górn¹ silni¹  nazywamy wyra¿enie  1.000000\n4   Wyra¿enie  x^ m  czytamy ,, x  do  m -tej ubyw...  1.000000\n5   Przyk³ad 5^ 3 =5 4 3=60 5^ 3 =5 6 7=210 4^ 5 =...  1.000000\n6       Definicja (liczby Stirlinga drugiego rodzaju)  1.000000\n7   Symbol  n  k (czyt.  k  podzbiorów  n ) oznacz...  1.000000\n8   Liczby Stirlinga drugiego rodzaju wystêpuj¹ cz...  1.000000\n9                              Wyznacz wartoœæ  4 2 .  0.999999\n10  Wyznaczymy liczbê podzia³ów zbioru czterolemen...  1.000000\n11                                    Zatem  4 2 =7 .  1.000000\n12           Wartoœci  n  k  dla ma³ych wartoœci  k :  1.000000\n13                                              k=0 .  0.999931\n14  Przyjmujemy, ¿e  0 0 =1 . Je¿eli  n>0  to, ocz...  1.000000\n15                                              k=1 .  0.999868\n16  Mamy  0 1 =0 . Dla  n>0  istnieje dok³adnie je...  1.000000\n17                                              k=2 .  0.999098\n18  Oczywiœcie  0 2 =0 . Za³ó¿my, ¿e  n>0 . Chcemy...  1.000000\n19              Wartoœci  n  k  dla ma³ych  n  i  k :  1.000000\n20                                             Uwaga!  0.999999\n21  W przypadku, gdy  n 0  i  k<0  zak³adamy, ¿e  ...  1.000000\n22                                        Twierdzenie  0.999995\n23          Dla  n>0  zachodzi zale¿noœæ rekurencyjna  1.000000\n24                                      Dowód.  (1/2)  1.000000\n25  Niech  S= \\{ a_1,a_2, ,a_n \\} . Okreœlimy licz...  1.000000\n26  W pierwszym przypadku mamy  n-1 k-1  mo¿liwoœc...  1.000000\n27                                      Dowód.  (2/2)  1.000000\n28  W drugim przypadku mamy  n-1  k  mo¿liwoœci po...  1.000000\n29                                        Ostatecznie  0.999995\n30                  Trójk¹t Stirlinga dla podzbiorów:  1.000000\n31                                   Zatem  4 2 =11 .  1.000000\n32                                 exampleblock frame  0.999997\n33  Podobnie jak w przypadku liczb Stirlinga drugi...  1.000000\n34  Oczywiœcie  0 1 =0 . Pamiêtamy, ¿e zbiór  n -e...  1.000000\n35  Poni¿szy dowód jest modyfikacj¹ wczeœniej prze...  1.000000\n36  Niech  S= \\{ a_1,a_2, ,a_n \\} . Okreœlimy licz...  1.000000\n37  W pierwszym przypadku mamy  n-1 k-1  mo¿liwoœc...  1.000000\n38  W drugim przypadku mamy  n-1  k  mo¿liwoœci po...  1.000000\n39                       Trójk¹t Stirlinga dla cykli:  1.000000\n40  Zauwa¿my, ¿e  n  k  oznacza liczbê permutacji ...  1.000000\n41                                           Przyk³ad  0.999937\n42  Zapisz w postaci ogólnej wielomiany  x^ s  dla...  1.000000\n43  Jak powinno wygl¹daæ uogólnienie zaobserwowany...  0.999988\n44                                               Wzór  0.999995\n45  zachodzi dla ka¿dej liczby ca³kowitej dodatnie...  1.000000\n46  Zauwa¿my, ¿e jak w powy¿szym wzorze podstawimy...  1.000000\n47  Dowód powy¿szego twierdzenia mo¿na przeprowadz...  1.000000\n48  Zale¿noœci miêdzy liczbami Strilinga pierwszeg...  1.000000\n49  Zauwa¿my, ¿e liczba cykli musi byæ co najmniej...  1.000000\n50             dla ca³kowitych nieujemnych  n  i  k .  1.000000\n51                   Zachodz¹ tzw.   wzory inwersji :  0.999999\n52                                  Je¿eli  m  n , to  0.999979\n53  n  k  --- liczba  k -elementowych podzbiorów z...  1.000000\n54  n  k  --- liczba podzia³ów  n -elementowego zb...  1.000000\n55  n  k  --- liczba permutacji  n -elementowego z...  1.000000\n56  Liczby Stirlinga pierwszego rodzaju nazywane s...  1.000000\n57                                           document  0.999913",
      "text/html": "<div>\n<style scoped>\n    .dataframe tbody tr th:only-of-type {\n        vertical-align: middle;\n    }\n\n    .dataframe tbody tr th {\n        vertical-align: top;\n    }\n\n    .dataframe thead th {\n        text-align: right;\n    }\n</style>\n<table border=\"1\" class=\"dataframe\">\n  <thead>\n    <tr style=\"text-align: right;\">\n      <th></th>\n      <th>text</th>\n      <th>predict</th>\n    </tr>\n  </thead>\n  <tbody>\n    <tr>\n      <th>0</th>\n      <td>a4paper,10pt beamer T1,plmath polski cp1250 in...</td>\n      <td>1.000000</td>\n    </tr>\n    <tr>\n      <th>1</th>\n      <td>Niech  m 0  bêdzie liczb¹ ca³kowit¹.</td>\n      <td>1.000000</td>\n    </tr>\n    <tr>\n      <th>2</th>\n      <td>Doln¹ silni¹  nazywamy wyra¿enie</td>\n      <td>1.000000</td>\n    </tr>\n    <tr>\n      <th>3</th>\n      <td>Górn¹ silni¹  nazywamy wyra¿enie</td>\n      <td>1.000000</td>\n    </tr>\n    <tr>\n      <th>4</th>\n      <td>Wyra¿enie  x^ m  czytamy ,, x  do  m -tej ubyw...</td>\n      <td>1.000000</td>\n    </tr>\n    <tr>\n      <th>5</th>\n      <td>Przyk³ad 5^ 3 =5 4 3=60 5^ 3 =5 6 7=210 4^ 5 =...</td>\n      <td>1.000000</td>\n    </tr>\n    <tr>\n      <th>6</th>\n      <td>Definicja (liczby Stirlinga drugiego rodzaju)</td>\n      <td>1.000000</td>\n    </tr>\n    <tr>\n      <th>7</th>\n      <td>Symbol  n  k (czyt.  k  podzbiorów  n ) oznacz...</td>\n      <td>1.000000</td>\n    </tr>\n    <tr>\n      <th>8</th>\n      <td>Liczby Stirlinga drugiego rodzaju wystêpuj¹ cz...</td>\n      <td>1.000000</td>\n    </tr>\n    <tr>\n      <th>9</th>\n      <td>Wyznacz wartoœæ  4 2 .</td>\n      <td>0.999999</td>\n    </tr>\n    <tr>\n      <th>10</th>\n      <td>Wyznaczymy liczbê podzia³ów zbioru czterolemen...</td>\n      <td>1.000000</td>\n    </tr>\n    <tr>\n      <th>11</th>\n      <td>Zatem  4 2 =7 .</td>\n      <td>1.000000</td>\n    </tr>\n    <tr>\n      <th>12</th>\n      <td>Wartoœci  n  k  dla ma³ych wartoœci  k :</td>\n      <td>1.000000</td>\n    </tr>\n    <tr>\n      <th>13</th>\n      <td>k=0 .</td>\n      <td>0.999931</td>\n    </tr>\n    <tr>\n      <th>14</th>\n      <td>Przyjmujemy, ¿e  0 0 =1 . Je¿eli  n&gt;0  to, ocz...</td>\n      <td>1.000000</td>\n    </tr>\n    <tr>\n      <th>15</th>\n      <td>k=1 .</td>\n      <td>0.999868</td>\n    </tr>\n    <tr>\n      <th>16</th>\n      <td>Mamy  0 1 =0 . Dla  n&gt;0  istnieje dok³adnie je...</td>\n      <td>1.000000</td>\n    </tr>\n    <tr>\n      <th>17</th>\n      <td>k=2 .</td>\n      <td>0.999098</td>\n    </tr>\n    <tr>\n      <th>18</th>\n      <td>Oczywiœcie  0 2 =0 . Za³ó¿my, ¿e  n&gt;0 . Chcemy...</td>\n      <td>1.000000</td>\n    </tr>\n    <tr>\n      <th>19</th>\n      <td>Wartoœci  n  k  dla ma³ych  n  i  k :</td>\n      <td>1.000000</td>\n    </tr>\n    <tr>\n      <th>20</th>\n      <td>Uwaga!</td>\n      <td>0.999999</td>\n    </tr>\n    <tr>\n      <th>21</th>\n      <td>W przypadku, gdy  n 0  i  k&lt;0  zak³adamy, ¿e  ...</td>\n      <td>1.000000</td>\n    </tr>\n    <tr>\n      <th>22</th>\n      <td>Twierdzenie</td>\n      <td>0.999995</td>\n    </tr>\n    <tr>\n      <th>23</th>\n      <td>Dla  n&gt;0  zachodzi zale¿noœæ rekurencyjna</td>\n      <td>1.000000</td>\n    </tr>\n    <tr>\n      <th>24</th>\n      <td>Dowód.  (1/2)</td>\n      <td>1.000000</td>\n    </tr>\n    <tr>\n      <th>25</th>\n      <td>Niech  S= \\{ a_1,a_2, ,a_n \\} . Okreœlimy licz...</td>\n      <td>1.000000</td>\n    </tr>\n    <tr>\n      <th>26</th>\n      <td>W pierwszym przypadku mamy  n-1 k-1  mo¿liwoœc...</td>\n      <td>1.000000</td>\n    </tr>\n    <tr>\n      <th>27</th>\n      <td>Dowód.  (2/2)</td>\n      <td>1.000000</td>\n    </tr>\n    <tr>\n      <th>28</th>\n      <td>W drugim przypadku mamy  n-1  k  mo¿liwoœci po...</td>\n      <td>1.000000</td>\n    </tr>\n    <tr>\n      <th>29</th>\n      <td>Ostatecznie</td>\n      <td>0.999995</td>\n    </tr>\n    <tr>\n      <th>30</th>\n      <td>Trójk¹t Stirlinga dla podzbiorów:</td>\n      <td>1.000000</td>\n    </tr>\n    <tr>\n      <th>31</th>\n      <td>Zatem  4 2 =11 .</td>\n      <td>1.000000</td>\n    </tr>\n    <tr>\n      <th>32</th>\n      <td>exampleblock frame</td>\n      <td>0.999997</td>\n    </tr>\n    <tr>\n      <th>33</th>\n      <td>Podobnie jak w przypadku liczb Stirlinga drugi...</td>\n      <td>1.000000</td>\n    </tr>\n    <tr>\n      <th>34</th>\n      <td>Oczywiœcie  0 1 =0 . Pamiêtamy, ¿e zbiór  n -e...</td>\n      <td>1.000000</td>\n    </tr>\n    <tr>\n      <th>35</th>\n      <td>Poni¿szy dowód jest modyfikacj¹ wczeœniej prze...</td>\n      <td>1.000000</td>\n    </tr>\n    <tr>\n      <th>36</th>\n      <td>Niech  S= \\{ a_1,a_2, ,a_n \\} . Okreœlimy licz...</td>\n      <td>1.000000</td>\n    </tr>\n    <tr>\n      <th>37</th>\n      <td>W pierwszym przypadku mamy  n-1 k-1  mo¿liwoœc...</td>\n      <td>1.000000</td>\n    </tr>\n    <tr>\n      <th>38</th>\n      <td>W drugim przypadku mamy  n-1  k  mo¿liwoœci po...</td>\n      <td>1.000000</td>\n    </tr>\n    <tr>\n      <th>39</th>\n      <td>Trójk¹t Stirlinga dla cykli:</td>\n      <td>1.000000</td>\n    </tr>\n    <tr>\n      <th>40</th>\n      <td>Zauwa¿my, ¿e  n  k  oznacza liczbê permutacji ...</td>\n      <td>1.000000</td>\n    </tr>\n    <tr>\n      <th>41</th>\n      <td>Przyk³ad</td>\n      <td>0.999937</td>\n    </tr>\n    <tr>\n      <th>42</th>\n      <td>Zapisz w postaci ogólnej wielomiany  x^ s  dla...</td>\n      <td>1.000000</td>\n    </tr>\n    <tr>\n      <th>43</th>\n      <td>Jak powinno wygl¹daæ uogólnienie zaobserwowany...</td>\n      <td>0.999988</td>\n    </tr>\n    <tr>\n      <th>44</th>\n      <td>Wzór</td>\n      <td>0.999995</td>\n    </tr>\n    <tr>\n      <th>45</th>\n      <td>zachodzi dla ka¿dej liczby ca³kowitej dodatnie...</td>\n      <td>1.000000</td>\n    </tr>\n    <tr>\n      <th>46</th>\n      <td>Zauwa¿my, ¿e jak w powy¿szym wzorze podstawimy...</td>\n      <td>1.000000</td>\n    </tr>\n    <tr>\n      <th>47</th>\n      <td>Dowód powy¿szego twierdzenia mo¿na przeprowadz...</td>\n      <td>1.000000</td>\n    </tr>\n    <tr>\n      <th>48</th>\n      <td>Zale¿noœci miêdzy liczbami Strilinga pierwszeg...</td>\n      <td>1.000000</td>\n    </tr>\n    <tr>\n      <th>49</th>\n      <td>Zauwa¿my, ¿e liczba cykli musi byæ co najmniej...</td>\n      <td>1.000000</td>\n    </tr>\n    <tr>\n      <th>50</th>\n      <td>dla ca³kowitych nieujemnych  n  i  k .</td>\n      <td>1.000000</td>\n    </tr>\n    <tr>\n      <th>51</th>\n      <td>Zachodz¹ tzw.   wzory inwersji :</td>\n      <td>0.999999</td>\n    </tr>\n    <tr>\n      <th>52</th>\n      <td>Je¿eli  m  n , to</td>\n      <td>0.999979</td>\n    </tr>\n    <tr>\n      <th>53</th>\n      <td>n  k  --- liczba  k -elementowych podzbiorów z...</td>\n      <td>1.000000</td>\n    </tr>\n    <tr>\n      <th>54</th>\n      <td>n  k  --- liczba podzia³ów  n -elementowego zb...</td>\n      <td>1.000000</td>\n    </tr>\n    <tr>\n      <th>55</th>\n      <td>n  k  --- liczba permutacji  n -elementowego z...</td>\n      <td>1.000000</td>\n    </tr>\n    <tr>\n      <th>56</th>\n      <td>Liczby Stirlinga pierwszego rodzaju nazywane s...</td>\n      <td>1.000000</td>\n    </tr>\n    <tr>\n      <th>57</th>\n      <td>document</td>\n      <td>0.999913</td>\n    </tr>\n  </tbody>\n</table>\n</div>"
     },
     "execution_count": 11,
     "metadata": {},
     "output_type": "execute_result"
    }
   ],
   "source": [
    "import pandas as pd\n",
    "pd.DataFrame(list(d.items()), columns=[\"text\", \"predict\"])"
   ],
   "metadata": {
    "collapsed": false
   }
  },
  {
   "cell_type": "code",
   "execution_count": 24,
   "outputs": [
    {
     "data": {
      "text/plain": "dict_values([np.float32(1.0), np.float32(1.0), np.float32(1.0), np.float32(1.0), np.float32(1.0), np.float32(1.0), np.float32(1.0), np.float32(1.0), np.float32(1.0), np.float32(0.99999905), np.float32(1.0), np.float32(0.99999994), np.float32(1.0), np.float32(0.9999306), np.float32(1.0), np.float32(0.99986833), np.float32(1.0), np.float32(0.999098), np.float32(1.0), np.float32(1.0), np.float32(0.99999905), np.float32(0.9999995), np.float32(0.9999951), np.float32(1.0), np.float32(1.0), np.float32(1.0), np.float32(1.0), np.float32(0.99999994), np.float32(1.0), np.float32(0.9999947), np.float32(1.0), np.float32(1.0), np.float32(0.9999975), np.float32(1.0), np.float32(1.0), np.float32(1.0), np.float32(1.0), np.float32(1.0), np.float32(1.0), np.float32(1.0), np.float32(1.0), np.float32(0.9999373), np.float32(1.0), np.float32(0.9999881), np.float32(0.9999952), np.float32(1.0), np.float32(1.0), np.float32(1.0), np.float32(0.9999998), np.float32(1.0), np.float32(0.9999998), np.float32(0.99999934), np.float32(0.9999792), np.float32(0.99999994), np.float32(0.99999994), np.float32(1.0), np.float32(1.0), np.float32(0.9999129)])"
     },
     "execution_count": 24,
     "metadata": {},
     "output_type": "execute_result"
    }
   ],
   "source": [
    "d.values()"
   ],
   "metadata": {
    "collapsed": false
   }
  },
  {
   "cell_type": "code",
   "execution_count": 8,
   "outputs": [
    {
     "name": "stdout",
     "output_type": "stream",
     "text": [
      "Notebook successfully converted to raport.html\n"
     ]
    }
   ],
   "source": [
    "import nbformat\n",
    "from nbconvert import HTMLExporter\n",
    "from nbconvert.preprocessors import ExecutePreprocessor\n",
    "def generuj_raport():\n",
    "\n",
    "    # Path to the notebook\n",
    "    notebook_path = \"raport.ipynb\"\n",
    "    output_html_path = \"raport.html\"\n",
    "\n",
    "    # Load the notebook\n",
    "    with open(notebook_path, 'r', encoding='utf-8') as f:\n",
    "        notebook_content = nbformat.read(f, as_version=4)\n",
    "\n",
    "\n",
    "    data_to_pass = {\"key\": \"Tekst sss\", \"numbers\": [1,2,3,4,5,6]}\n",
    "    notebook_content.cells[1].source = f\"data = {data_to_pass}\\n# Process this data in Python\"\n",
    "\n",
    "    # Set up HTML exporter\n",
    "    execute_preprocessor = ExecutePreprocessor(timeout=600, kernel_name='python3')\n",
    "    try:\n",
    "        execute_preprocessor.preprocess(notebook_content, {'metadata': {'path': './'}})\n",
    "    except Exception as e:\n",
    "        print(f\"Error during execution: {e}\")\n",
    "        return\n",
    "\n",
    "    html_exporter = HTMLExporter()\n",
    "    html_exporter.exclude_input = True  # Hides code cells in the HTML output\n",
    "    html_exporter.exclude_input_prompt = True  # Hides input prompts\n",
    "\n",
    "    # Convert the notebook to HTML\n",
    "    (html_body, _) = html_exporter.from_notebook_node(notebook_content)\n",
    "\n",
    "    # Save the HTML file\n",
    "    with open(output_html_path, 'w', encoding='utf-8') as f:\n",
    "        f.write(html_body)\n",
    "\n",
    "    print(f\"Notebook successfully converted to {output_html_path}\")\n",
    "\n",
    "generuj_raport()\n",
    "\n"
   ],
   "metadata": {
    "collapsed": false
   }
  },
  {
   "cell_type": "code",
   "execution_count": 15,
   "outputs": [],
   "source": [
    "\n",
    "def generuj_raport_latex():\n",
    "    with open('raport.tex', 'r') as f:\n",
    "        tex = f.read()\n",
    "    tex = tex.replace(\"Input-nr-1\",\"24.01.2025\")\n",
    "    tex = tex.replace(\"Input-nr-2\",\"12:34\")\n",
    "    tex = tex.replace(\"Input-nr-3\",\"test.tex\")\n",
    "    tex = tex.replace(\"Input-nr-4\",\"red\")\n",
    "    tex = tex.replace(\"Input-nr-5\",\"50.0\")\n",
    "    tex = tex.replace(\"Input-nr-6\",\"12\")\n",
    "    tex = tex.replace(\"Input-nr-7\",\"30\")\n",
    "    with open('generuj_raport.tex', 'w') as f:\n",
    "        f.write(tex)\n",
    "# Generate the report\n",
    "generuj_raport_latex()\n"
   ],
   "metadata": {
    "collapsed": false
   }
  },
  {
   "cell_type": "code",
   "execution_count": 2,
   "outputs": [
    {
     "name": "stdout",
     "output_type": "stream",
     "text": [
      "PDF generated successfully!\n"
     ]
    }
   ],
   "source": [
    "import subprocess\n",
    "import os\n",
    "\n",
    "def tex_to_pdf(tex_file):\n",
    "    # Check if the file exists\n",
    "    if not os.path.exists(tex_file):\n",
    "        print(f\"The file {tex_file} does not exist.\")\n",
    "        return\n",
    "\n",
    "    # Run pdflatex command\n",
    "    try:\n",
    "        # Command to run pdflatex\n",
    "        result = subprocess.run(\n",
    "            [\"pdflatex\", tex_file],\n",
    "            check=True,  # Raise exception if command fails\n",
    "            stdout=subprocess.PIPE,\n",
    "            stderr=subprocess.PIPE\n",
    "        )\n",
    "        print(\"PDF generated successfully!\")\n",
    "    except subprocess.CalledProcessError as e:\n",
    "        print(f\"Error occurred during LaTeX compilation: {e.stderr.decode()}\")\n",
    "        print(\"Compilation failed.\")\n",
    "\n",
    "# Example usage\n",
    "tex_file = \"report.tex\"  # Replace with your .tex file path\n",
    "tex_to_pdf(tex_file)"
   ],
   "metadata": {
    "collapsed": false
   }
  },
  {
   "cell_type": "code",
   "execution_count": null,
   "outputs": [],
   "source": [],
   "metadata": {
    "collapsed": false
   }
  }
 ],
 "metadata": {
  "kernelspec": {
   "display_name": "Python 3",
   "language": "python",
   "name": "python3"
  },
  "language_info": {
   "codemirror_mode": {
    "name": "ipython",
    "version": 2
   },
   "file_extension": ".py",
   "mimetype": "text/x-python",
   "name": "python",
   "nbconvert_exporter": "python",
   "pygments_lexer": "ipython2",
   "version": "2.7.6"
  }
 },
 "nbformat": 4,
 "nbformat_minor": 0
}
