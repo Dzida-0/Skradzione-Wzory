{
 "cells": [
  {
   "cell_type": "code",
   "execution_count": 1,
   "outputs": [],
   "source": [
    "import matplotlib.pyplot as plt\n",
    "from report_generator import ReportGenerator\n",
    "from model import Model"
   ],
   "metadata": {
    "collapsed": false,
    "ExecuteTime": {
     "end_time": "2025-01-27T13:37:41.105045Z",
     "start_time": "2025-01-27T13:37:35.614620Z"
    }
   }
  },
  {
   "cell_type": "code",
   "execution_count": 2,
   "outputs": [],
   "source": [
    "mod = Model()\n",
    "mod.load_model('saved_models/test_generate_21_f_256_1024_o256_e20')"
   ],
   "metadata": {
    "collapsed": false,
    "ExecuteTime": {
     "end_time": "2025-01-27T13:37:41.267508Z",
     "start_time": "2025-01-27T13:37:41.106209Z"
    }
   }
  },
  {
   "cell_type": "code",
   "execution_count": 20,
   "outputs": [
    {
     "name": "stdout",
     "output_type": "stream",
     "text": [
      "57\n"
     ]
    }
   ],
   "source": [
    "d = mod.predict_from_latex('predict_latex/rn.tex',3)"
   ],
   "metadata": {
    "collapsed": false,
    "ExecuteTime": {
     "end_time": "2025-01-27T13:59:37.702758Z",
     "start_time": "2025-01-27T13:59:34.819256Z"
    }
   }
  },
  {
   "cell_type": "code",
   "execution_count": 21,
   "outputs": [
    {
     "data": {
      "text/plain": "                                                 text       predict\n0   article % Language setting % Replace `english'...  1.000000e+00\n1   Your introduction goes here! Simply start writ...  2.872590e-11\n2   Some examples to get started How to create Sec...  3.072802e-10\n3   How to include Figures First you have to uploa...  2.912866e-15\n4   Note that your figure will automatically be pl...  4.524228e-07\n5   How to add Tables Use the table and tabular en...  3.084839e-04\n6   tab:widgets An example table. How to add Comme...  1.517659e-12\n7   Track changes are available on all our  https:...  9.255986e-01\n8   How to add Lists You can make lists with autom...  1.470270e-08\n9   or bullet points   Like this,  and like this. ...  7.120750e-04\n10  S_n =  X_1 + X_2 +   + X_n n       =  1 n _ i ...  9.977883e-01\n11           How to change the margins and paper size  3.316777e-07\n12  Usually the template you're using will have th...  1.680600e-21\n13  How to change the document language and spell ...  7.745694e-04\n14  To configure the document language, simply edi...  1.725721e-05\n15  To change the spell check language, simply ope...  1.067227e-14\n16  You can simply upload a  |.bib| file containin...  4.365987e-03\n17  Good luck! We hope you find Overleaf useful, a...  9.999775e-01\n18                                       alpha sample  9.924637e-01",
      "text/html": "<div>\n<style scoped>\n    .dataframe tbody tr th:only-of-type {\n        vertical-align: middle;\n    }\n\n    .dataframe tbody tr th {\n        vertical-align: top;\n    }\n\n    .dataframe thead th {\n        text-align: right;\n    }\n</style>\n<table border=\"1\" class=\"dataframe\">\n  <thead>\n    <tr style=\"text-align: right;\">\n      <th></th>\n      <th>text</th>\n      <th>predict</th>\n    </tr>\n  </thead>\n  <tbody>\n    <tr>\n      <th>0</th>\n      <td>article % Language setting % Replace `english'...</td>\n      <td>1.000000e+00</td>\n    </tr>\n    <tr>\n      <th>1</th>\n      <td>Your introduction goes here! Simply start writ...</td>\n      <td>2.872590e-11</td>\n    </tr>\n    <tr>\n      <th>2</th>\n      <td>Some examples to get started How to create Sec...</td>\n      <td>3.072802e-10</td>\n    </tr>\n    <tr>\n      <th>3</th>\n      <td>How to include Figures First you have to uploa...</td>\n      <td>2.912866e-15</td>\n    </tr>\n    <tr>\n      <th>4</th>\n      <td>Note that your figure will automatically be pl...</td>\n      <td>4.524228e-07</td>\n    </tr>\n    <tr>\n      <th>5</th>\n      <td>How to add Tables Use the table and tabular en...</td>\n      <td>3.084839e-04</td>\n    </tr>\n    <tr>\n      <th>6</th>\n      <td>tab:widgets An example table. How to add Comme...</td>\n      <td>1.517659e-12</td>\n    </tr>\n    <tr>\n      <th>7</th>\n      <td>Track changes are available on all our  https:...</td>\n      <td>9.255986e-01</td>\n    </tr>\n    <tr>\n      <th>8</th>\n      <td>How to add Lists You can make lists with autom...</td>\n      <td>1.470270e-08</td>\n    </tr>\n    <tr>\n      <th>9</th>\n      <td>or bullet points   Like this,  and like this. ...</td>\n      <td>7.120750e-04</td>\n    </tr>\n    <tr>\n      <th>10</th>\n      <td>S_n =  X_1 + X_2 +   + X_n n       =  1 n _ i ...</td>\n      <td>9.977883e-01</td>\n    </tr>\n    <tr>\n      <th>11</th>\n      <td>How to change the margins and paper size</td>\n      <td>3.316777e-07</td>\n    </tr>\n    <tr>\n      <th>12</th>\n      <td>Usually the template you're using will have th...</td>\n      <td>1.680600e-21</td>\n    </tr>\n    <tr>\n      <th>13</th>\n      <td>How to change the document language and spell ...</td>\n      <td>7.745694e-04</td>\n    </tr>\n    <tr>\n      <th>14</th>\n      <td>To configure the document language, simply edi...</td>\n      <td>1.725721e-05</td>\n    </tr>\n    <tr>\n      <th>15</th>\n      <td>To change the spell check language, simply ope...</td>\n      <td>1.067227e-14</td>\n    </tr>\n    <tr>\n      <th>16</th>\n      <td>You can simply upload a  |.bib| file containin...</td>\n      <td>4.365987e-03</td>\n    </tr>\n    <tr>\n      <th>17</th>\n      <td>Good luck! We hope you find Overleaf useful, a...</td>\n      <td>9.999775e-01</td>\n    </tr>\n    <tr>\n      <th>18</th>\n      <td>alpha sample</td>\n      <td>9.924637e-01</td>\n    </tr>\n  </tbody>\n</table>\n</div>"
     },
     "execution_count": 21,
     "metadata": {},
     "output_type": "execute_result"
    }
   ],
   "source": [
    "import pandas as pd\n",
    "pd.DataFrame(list(d.items()), columns=[\"text\", \"predict\"])"
   ],
   "metadata": {
    "collapsed": false,
    "ExecuteTime": {
     "end_time": "2025-01-27T13:59:37.719045Z",
     "start_time": "2025-01-27T13:59:37.705847Z"
    }
   }
  },
  {
   "cell_type": "code",
   "execution_count": 22,
   "outputs": [],
   "source": [
    "#r = ReportGenerator()\n",
    "# r.generate_latex_report( data = [\"24.01.2025\",\"13:34\",\"test.tex\",\"green\", \"40.0\", \"123\", \"54\" ], results= [0.0,0.1,0.2,0.1,0.6,0.9,0.8,0.1,1.0])\n",
    "# r.open_latex_report()\n",
    "# r.download_latex_report(\"C:\\\\Users\\\\domin\\\\Desktop\\\\STUDIA\\\\Sem. V\\\\Inżynieria_Oprogramowania\\\\Skradzione-Wzory\\\\a.zip\")\n",
    "#r.generate_html_report(mod.get_report_data())\n",
    "#r.open_html_report()\n",
    "#r.download_html_report(\"C:\\\\Users\\\\domin\\\\Desktop\\\\STUDIA\\\\Sem. V\\\\Inżynieria_Oprogramowania\\\\Skradzione-Wzory\")"
   ],
   "metadata": {
    "collapsed": false,
    "ExecuteTime": {
     "end_time": "2025-01-27T13:59:43.283064Z",
     "start_time": "2025-01-27T13:59:37.722053Z"
    }
   }
  },
  {
   "cell_type": "code",
   "execution_count": 15,
   "outputs": [],
   "source": [
    "r = ReportGenerator()\n",
    "r.generate_latex_report(mod.get_report_data())\n",
    "r.open_latex_report()\n",
    "#r.download_latex_report(\"C:\\\\Users\\\\domin\\\\Desktop\\\\STUDIA\\\\Sem. V\\\\Inżynieria_Oprogramowania\\\\Skradzione-Wzory\\\\a.zip\")"
   ],
   "metadata": {
    "collapsed": false,
    "ExecuteTime": {
     "end_time": "2025-01-27T13:46:23.137471Z",
     "start_time": "2025-01-27T13:46:23.132591Z"
    }
   }
  },
  {
   "cell_type": "code",
   "execution_count": null,
   "outputs": [],
   "source": [],
   "metadata": {
    "collapsed": false,
    "ExecuteTime": {
     "end_time": "2025-01-27T13:37:52.131678Z",
     "start_time": "2025-01-27T13:37:52.130606Z"
    }
   }
  }
 ],
 "metadata": {
  "kernelspec": {
   "display_name": "Python 3",
   "language": "python",
   "name": "python3"
  },
  "language_info": {
   "codemirror_mode": {
    "name": "ipython",
    "version": 2
   },
   "file_extension": ".py",
   "mimetype": "text/x-python",
   "name": "python",
   "nbconvert_exporter": "python",
   "pygments_lexer": "ipython2",
   "version": "2.7.6"
  }
 },
 "nbformat": 4,
 "nbformat_minor": 0
}
