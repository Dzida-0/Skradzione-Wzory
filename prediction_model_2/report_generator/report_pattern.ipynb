{
 "cells": [
  {
   "cell_type": "code",
   "execution_count": null,
   "metadata": {
    "collapsed": true
   },
   "outputs": [],
   "source": [
    "from IPython.display import Markdown, display\n",
    "import matplotlib.pyplot as plt\n",
    "import seaborn as sns"
   ]
  },
  {
   "cell_type": "code",
   "execution_count": null,
   "outputs": [],
   "source": [
    "data =  {\"data\": [\"24.01.2025\",\"13:34\",\"test.tex\",\"green\", \"40.0\", \"123\", \"54\" ], \"numbers\": [42,12,34]}"
   ],
   "metadata": {
    "collapsed": false
   }
  },
  {
   "cell_type": "markdown",
   "source": [],
   "metadata": {
    "collapsed": false
   }
  },
  {
   "cell_type": "markdown",
   "source": [],
   "metadata": {
    "collapsed": false
   }
  },
  {
   "cell_type": "code",
   "execution_count": null,
   "outputs": [],
   "source": [
    "display(Markdown(\"<h1 align = 'center'> Raport Plagiat </h1> \"))"
   ],
   "metadata": {
    "collapsed": false
   }
  },
  {
   "cell_type": "code",
   "execution_count": null,
   "outputs": [],
   "source": [
    "display(Markdown(f\"<h2>{data['data'][0]}</h2>\"))\n",
    "display(Markdown(f\"<h2>{data['data'][1]}</h2>\"))\n",
    "display(Markdown(f\"<h2>{data['data'][2]}</h2>\"))\n",
    "display(Markdown(f\"<h2>{data['data'][3]}</h2>\"))\n",
    "display(Markdown(f\"<h2>{data['data'][4]}</h2>\"))\n",
    "display(Markdown(f\"<h2>{data['data'][5]}</h2>\"))\n",
    "display(Markdown(f\"<h2>{data['data'][6]}</h2>\"))"
   ],
   "metadata": {
    "collapsed": false
   }
  },
  {
   "cell_type": "code",
   "execution_count": null,
   "outputs": [],
   "source": [],
   "metadata": {
    "collapsed": false
   }
  },
  {
   "cell_type": "code",
   "execution_count": null,
   "outputs": [],
   "source": [
    "plt.plot([i for i in range(len(data['numbers']))],data['numbers'])\n",
    "plt.show()"
   ],
   "metadata": {
    "collapsed": false
   }
  },
  {
   "cell_type": "code",
   "execution_count": null,
   "outputs": [],
   "source": [
    "plt.figure(figsize=(8, 6))\n",
    "sns.histplot(data[\"numbers\"], bins=8, kde=True, color='blue')\n",
    "plt.xlim(min(data[\"numbers\"]), max(data[\"numbers\"]))\n",
    "plt.xlabel('a', fontsize=12)\n",
    "plt.ylabel('b', fontsize=12)\n",
    "plt.title('c', fontsize=14)\n",
    "plt.show()"
   ],
   "metadata": {
    "collapsed": false
   }
  }
 ],
 "metadata": {
  "kernelspec": {
   "display_name": "Python 3",
   "language": "python",
   "name": "python3"
  },
  "language_info": {
   "codemirror_mode": {
    "name": "ipython",
    "version": 2
   },
   "file_extension": ".py",
   "mimetype": "text/x-python",
   "name": "python",
   "nbconvert_exporter": "python",
   "pygments_lexer": "ipython2",
   "version": "2.7.6"
  }
 },
 "nbformat": 4,
 "nbformat_minor": 0
}
