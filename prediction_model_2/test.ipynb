{
 "cells": [
  {
   "cell_type": "code",
   "execution_count": 1,
   "metadata": {
    "collapsed": true
   },
   "outputs": [],
   "source": [
    "from model import Model"
   ]
  },
  {
   "cell_type": "code",
   "execution_count": 2,
   "outputs": [],
   "source": [
    "pr_plagiat = [\"Zatem izomorfizm to bijekcja\",\"Jedynym maxtermem wśród powyższych co-termów jest  x_1   x_2  x_3 .\",'Każdy atom  Bool (n)  jest generowany przez dokładnie jeden minterm.']\n",
    "pr_original = [\"aaaaaaa\",\"Ten tekst nie jest plagiatem\",\"Zadanie nr 1: 2 + 3 = 5\", \"Losowy text\"]\n",
    "# bliżej 0 ogrinał, bliżej 1 plagiat"
   ],
   "metadata": {
    "collapsed": false
   }
  },
  {
   "cell_type": "code",
   "execution_count": 3,
   "outputs": [],
   "source": [
    "mod = Model()"
   ],
   "metadata": {
    "collapsed": false
   }
  },
  {
   "cell_type": "code",
   "execution_count": 4,
   "outputs": [
    {
     "name": "stdout",
     "output_type": "stream",
     "text": [
      "Epoch 1/10\n",
      "\u001B[1m103/103\u001B[0m \u001B[32m━━━━━━━━━━━━━━━━━━━━\u001B[0m\u001B[37m\u001B[0m \u001B[1m5s\u001B[0m 33ms/step - accuracy: 0.6020 - loss: 0.6260\n",
      "Epoch 2/10\n",
      "\u001B[1m103/103\u001B[0m \u001B[32m━━━━━━━━━━━━━━━━━━━━\u001B[0m\u001B[37m\u001B[0m \u001B[1m3s\u001B[0m 33ms/step - accuracy: 0.9492 - loss: 0.1063\n",
      "Epoch 3/10\n",
      "\u001B[1m103/103\u001B[0m \u001B[32m━━━━━━━━━━━━━━━━━━━━\u001B[0m\u001B[37m\u001B[0m \u001B[1m4s\u001B[0m 37ms/step - accuracy: 1.0000 - loss: 0.0062\n",
      "Epoch 4/10\n",
      "\u001B[1m103/103\u001B[0m \u001B[32m━━━━━━━━━━━━━━━━━━━━\u001B[0m\u001B[37m\u001B[0m \u001B[1m5s\u001B[0m 38ms/step - accuracy: 1.0000 - loss: 0.0015\n",
      "Epoch 5/10\n",
      "\u001B[1m103/103\u001B[0m \u001B[32m━━━━━━━━━━━━━━━━━━━━\u001B[0m\u001B[37m\u001B[0m \u001B[1m5s\u001B[0m 34ms/step - accuracy: 1.0000 - loss: 4.8826e-04\n",
      "Epoch 6/10\n",
      "\u001B[1m103/103\u001B[0m \u001B[32m━━━━━━━━━━━━━━━━━━━━\u001B[0m\u001B[37m\u001B[0m \u001B[1m3s\u001B[0m 31ms/step - accuracy: 1.0000 - loss: 5.1262e-04\n",
      "Epoch 7/10\n",
      "\u001B[1m103/103\u001B[0m \u001B[32m━━━━━━━━━━━━━━━━━━━━\u001B[0m\u001B[37m\u001B[0m \u001B[1m5s\u001B[0m 31ms/step - accuracy: 1.0000 - loss: 2.8724e-04\n",
      "Epoch 8/10\n",
      "\u001B[1m103/103\u001B[0m \u001B[32m━━━━━━━━━━━━━━━━━━━━\u001B[0m\u001B[37m\u001B[0m \u001B[1m4s\u001B[0m 39ms/step - accuracy: 1.0000 - loss: 3.3160e-04\n",
      "Epoch 9/10\n",
      "\u001B[1m103/103\u001B[0m \u001B[32m━━━━━━━━━━━━━━━━━━━━\u001B[0m\u001B[37m\u001B[0m \u001B[1m4s\u001B[0m 38ms/step - accuracy: 1.0000 - loss: 2.8600e-04\n",
      "Epoch 10/10\n",
      "\u001B[1m103/103\u001B[0m \u001B[32m━━━━━━━━━━━━━━━━━━━━\u001B[0m\u001B[37m\u001B[0m \u001B[1m3s\u001B[0m 32ms/step - accuracy: 1.0000 - loss: 1.2087e-04\n"
     ]
    }
   ],
   "source": [
    "mod.train(filters=1024,output_dim=512)"
   ],
   "metadata": {
    "collapsed": false
   }
  },
  {
   "cell_type": "code",
   "execution_count": 5,
   "outputs": [],
   "source": [
    "mod.save_model()"
   ],
   "metadata": {
    "collapsed": false
   }
  },
  {
   "cell_type": "code",
   "execution_count": 6,
   "outputs": [],
   "source": [
    "mod = Model()"
   ],
   "metadata": {
    "collapsed": false
   }
  },
  {
   "cell_type": "code",
   "execution_count": 7,
   "outputs": [],
   "source": [
    "mod.load_model()"
   ],
   "metadata": {
    "collapsed": false
   }
  },
  {
   "cell_type": "code",
   "execution_count": 8,
   "outputs": [
    {
     "ename": "ValueError",
     "evalue": "Exception encountered when calling Conv1D.call().\n\n\u001B[1mNegative dimension size caused by subtracting 2 from 0 for '{{node sequential_1/conv1d_1/convolution}} = Conv2D[T=DT_FLOAT, data_format=\"NHWC\", dilations=[1, 1, 1, 1], explicit_paddings=[], padding=\"VALID\", strides=[1, 1, 1, 1], use_cudnn_on_gpu=true](sequential_1/conv1d_1/convolution/ExpandDims, sequential_1/conv1d_1/convolution/ExpandDims_1)' with input shapes: [1,1,0,512], [1,2,512,1024].\u001B[0m\n\nArguments received by Conv1D.call():\n  • inputs=tf.Tensor(shape=(1, 0, 512), dtype=float32)",
     "output_type": "error",
     "traceback": [
      "\u001B[1;31m---------------------------------------------------------------------------\u001B[0m",
      "\u001B[1;31mValueError\u001B[0m                                Traceback (most recent call last)",
      "Cell \u001B[1;32mIn[8], line 2\u001B[0m\n\u001B[0;32m      1\u001B[0m \u001B[38;5;28;01mfor\u001B[39;00m i \u001B[38;5;129;01min\u001B[39;00m pr_original:\n\u001B[1;32m----> 2\u001B[0m     \u001B[38;5;28mprint\u001B[39m(\u001B[43mmod\u001B[49m\u001B[38;5;241;43m.\u001B[39;49m\u001B[43mpredict\u001B[49m\u001B[43m(\u001B[49m\u001B[43mi\u001B[49m\u001B[43m)\u001B[49m, i)\n\u001B[0;32m      3\u001B[0m \u001B[38;5;28mprint\u001B[39m(\u001B[38;5;124m\"\u001B[39m\u001B[38;5;124m--------------------------\u001B[39m\u001B[38;5;124m\"\u001B[39m)\n\u001B[0;32m      4\u001B[0m \u001B[38;5;28;01mfor\u001B[39;00m i \u001B[38;5;129;01min\u001B[39;00m pr_plagiat:\n",
      "File \u001B[1;32m~\\Desktop\\STUDIA\\Sem. V\\Inżynieria_Oprogramowania\\Skradzione-Wzory\\prediction_model_2\\model.py:77\u001B[0m, in \u001B[0;36mModel.predict\u001B[1;34m(self, text)\u001B[0m\n\u001B[0;32m     75\u001B[0m new_sequences \u001B[38;5;241m=\u001B[39m \u001B[38;5;28mself\u001B[39m\u001B[38;5;241m.\u001B[39m_tokenizer\u001B[38;5;241m.\u001B[39mtexts_to_sequences([text])\n\u001B[0;32m     76\u001B[0m new_X \u001B[38;5;241m=\u001B[39m pad_sequences(new_sequences, maxlen\u001B[38;5;241m=\u001B[39m\u001B[38;5;28mself\u001B[39m\u001B[38;5;241m.\u001B[39m_max_len)\n\u001B[1;32m---> 77\u001B[0m predictions \u001B[38;5;241m=\u001B[39m \u001B[38;5;28;43mself\u001B[39;49m\u001B[38;5;241;43m.\u001B[39;49m\u001B[43m_model\u001B[49m\u001B[38;5;241;43m.\u001B[39;49m\u001B[43mpredict\u001B[49m\u001B[43m(\u001B[49m\u001B[43mnew_X\u001B[49m\u001B[43m)\u001B[49m\n\u001B[0;32m     78\u001B[0m \u001B[38;5;28;01mreturn\u001B[39;00m predictions[\u001B[38;5;241m0\u001B[39m][\u001B[38;5;241m0\u001B[39m]\n",
      "File \u001B[1;32m~\\Desktop\\STUDIA\\Sem. V\\Inżynieria_Oprogramowania\\Skradzione-Wzory\\venv\\Lib\\site-packages\\keras\\src\\utils\\traceback_utils.py:122\u001B[0m, in \u001B[0;36mfilter_traceback.<locals>.error_handler\u001B[1;34m(*args, **kwargs)\u001B[0m\n\u001B[0;32m    119\u001B[0m     filtered_tb \u001B[38;5;241m=\u001B[39m _process_traceback_frames(e\u001B[38;5;241m.\u001B[39m__traceback__)\n\u001B[0;32m    120\u001B[0m     \u001B[38;5;66;03m# To get the full stack trace, call:\u001B[39;00m\n\u001B[0;32m    121\u001B[0m     \u001B[38;5;66;03m# `keras.config.disable_traceback_filtering()`\u001B[39;00m\n\u001B[1;32m--> 122\u001B[0m     \u001B[38;5;28;01mraise\u001B[39;00m e\u001B[38;5;241m.\u001B[39mwith_traceback(filtered_tb) \u001B[38;5;28;01mfrom\u001B[39;00m \u001B[38;5;28;01mNone\u001B[39;00m\n\u001B[0;32m    123\u001B[0m \u001B[38;5;28;01mfinally\u001B[39;00m:\n\u001B[0;32m    124\u001B[0m     \u001B[38;5;28;01mdel\u001B[39;00m filtered_tb\n",
      "File \u001B[1;32m~\\Desktop\\STUDIA\\Sem. V\\Inżynieria_Oprogramowania\\Skradzione-Wzory\\venv\\Lib\\site-packages\\keras\\src\\utils\\traceback_utils.py:122\u001B[0m, in \u001B[0;36mfilter_traceback.<locals>.error_handler\u001B[1;34m(*args, **kwargs)\u001B[0m\n\u001B[0;32m    119\u001B[0m     filtered_tb \u001B[38;5;241m=\u001B[39m _process_traceback_frames(e\u001B[38;5;241m.\u001B[39m__traceback__)\n\u001B[0;32m    120\u001B[0m     \u001B[38;5;66;03m# To get the full stack trace, call:\u001B[39;00m\n\u001B[0;32m    121\u001B[0m     \u001B[38;5;66;03m# `keras.config.disable_traceback_filtering()`\u001B[39;00m\n\u001B[1;32m--> 122\u001B[0m     \u001B[38;5;28;01mraise\u001B[39;00m e\u001B[38;5;241m.\u001B[39mwith_traceback(filtered_tb) \u001B[38;5;28;01mfrom\u001B[39;00m \u001B[38;5;28;01mNone\u001B[39;00m\n\u001B[0;32m    123\u001B[0m \u001B[38;5;28;01mfinally\u001B[39;00m:\n\u001B[0;32m    124\u001B[0m     \u001B[38;5;28;01mdel\u001B[39;00m filtered_tb\n",
      "\u001B[1;31mValueError\u001B[0m: Exception encountered when calling Conv1D.call().\n\n\u001B[1mNegative dimension size caused by subtracting 2 from 0 for '{{node sequential_1/conv1d_1/convolution}} = Conv2D[T=DT_FLOAT, data_format=\"NHWC\", dilations=[1, 1, 1, 1], explicit_paddings=[], padding=\"VALID\", strides=[1, 1, 1, 1], use_cudnn_on_gpu=true](sequential_1/conv1d_1/convolution/ExpandDims, sequential_1/conv1d_1/convolution/ExpandDims_1)' with input shapes: [1,1,0,512], [1,2,512,1024].\u001B[0m\n\nArguments received by Conv1D.call():\n  • inputs=tf.Tensor(shape=(1, 0, 512), dtype=float32)"
     ]
    }
   ],
   "source": [
    "for i in pr_original:\n",
    "    print(mod.predict(i), i)\n",
    "print(\"--------------------------\")\n",
    "for i in pr_plagiat:\n",
    "    print(mod.predict(i), i)"
   ],
   "metadata": {
    "collapsed": false
   }
  },
  {
   "cell_type": "code",
   "execution_count": null,
   "outputs": [],
   "source": [
    "tr = {\"Zatem izomorfizm to bijekcja\":1,\n",
    "      \"Jedynym maxtermem wśród powyższych co-termów jest  x_1   x_2  x_3 .\":1,\n",
    "      'Każdy atom  Bool (n)  jest generowany przez dokładnie jeden minterm.':1,\n",
    "      \"aaaaaaa\":0,\n",
    "      \"Ten tekst nie jest plagiatem\":0,\n",
    "      \"Zadanie nr 1: 2 + 3 = 5\":0,\n",
    "      \"Losowy text\":0}\n",
    "df = mod.find_best(tr,[16,32,64],[16,32,64])"
   ],
   "metadata": {
    "collapsed": false
   }
  },
  {
   "cell_type": "code",
   "execution_count": null,
   "outputs": [],
   "source": [
    "df"
   ],
   "metadata": {
    "collapsed": false
   }
  },
  {
   "cell_type": "code",
   "outputs": [],
   "source": [],
   "metadata": {
    "collapsed": false
   }
  },
  {
   "cell_type": "code",
   "outputs": [],
   "source": [
    "from TexSoup import TexSoup"
   ],
   "metadata": {
    "collapsed": false,
    "ExecuteTime": {
     "end_time": "2025-01-13T07:58:08.338774Z",
     "start_time": "2025-01-13T07:58:08.319426Z"
    }
   },
   "execution_count": 2
  },
  {
   "cell_type": "code",
   "outputs": [],
   "source": [
    "def latex_to_plain_text_texsoup(latex_content):\n",
    "    # Parsowanie LaTeX za pomocą TexSoup\n",
    "    soup = TexSoup(latex_content)\n",
    "\n",
    "    # Wyodrębnianie tekstu i zamiana polskich znaków\n",
    "    plain_text = []\n",
    "    for text in soup.text:\n",
    "        plain_text.append(text)\n",
    "\n",
    "    return ' '.join(plain_text).strip()\n"
   ],
   "metadata": {
    "collapsed": false,
    "ExecuteTime": {
     "end_time": "2025-01-13T07:58:08.742575Z",
     "start_time": "2025-01-13T07:58:08.737645Z"
    }
   },
   "execution_count": 3
  },
  {
   "cell_type": "code",
   "outputs": [],
   "source": [
    "import re\n",
    "\n",
    "with open('md4 rekurencja.tex','r',encoding='utf-8') as f:\n",
    "    r = f.read()\n",
    "a = latex_to_plain_text_texsoup(r) \n",
    "a = re.sub('\\t', '', a)\n",
    "a = a.split('\\n')\n",
    "with open('b.txt','w',encoding='utf-8') as f:\n",
    "    for i in a:\n",
    "        i = i.strip()\n",
    "        if i != '':\n",
    "            f.write(i + '\\n')"
   ],
   "metadata": {
    "collapsed": false,
    "ExecuteTime": {
     "end_time": "2025-01-13T08:37:20.691860Z",
     "start_time": "2025-01-13T08:37:19.890323Z"
    }
   },
   "execution_count": 32
  },
  {
   "cell_type": "code",
   "outputs": [
    {
     "data": {
      "text/plain": "['a4paper,10pt beamer T1,plmath polski cp1250 inputenc amssymb indentfirst graphicx onlymath serif ulem % kolorowe podkreślenia xcolor % kolorowe podkreślenia arcctg \\\\, arctg \\\\, \\\\, d \\\\, Int %\\\\definecolor{green1}{html}{22B14C} 1 orange black #1 % pomarańczowe podkreślenie 1 yellow black #1 % żółte podkreślenie 1 blue black #1 % niebieskie podkreślenie 1 RGB 34,177,76 black #1 % zielone podkreślenie Boadilla crane %\\\\usecolortheme[rgb={1,0.5,0}]{structure}  Rekurencja %\\\\subtitle{Matematyka, Kierunek: Architektura} B. Pawlik  dr inż. Bartłomiej Pawlik %\\\\institute{} %\\\\setbeamercovered{transparent} % przezroczyste warstwy %%%%%%%%%% CIĄGI REKURENCYJNE Ciągi rekurencyjne  Rekurencja (łac.   recurrere  - przybiec z powrotem) to sposób definiowania procedur i funkcji polegający na umieszczeniu w treści procedury/funkcji odwołań do samej siebie.',\n ' ',\n 'W definicji rekurencyjnej podajemy jawnie pewną liczbę elementów z których składa się dany obiekt (  warunki początkowe  lub   przypadki bazowe ), a następnie podajemy reguły (  zależności rekurencyjne ) definiowania pozostałych elementów przy pomocy elementów zdefiniowanych wcześniej.',\n '',\n ' Definicja ',\n 'Funkcja jest zdefiniowana rekurencyjnie, jeżeli',\n '  określono (jawnie) wartości dla pewnego zbioru argumentów funkcji (warunki początkowe)',\n '  pozostałe wartości są zdefiniowane za pomocą innych wartości tej funkcji poprzez zależność rekurencyjną (co najmniej jedną).',\n ' ',\n 'Funkcje rekurencyjne o co najwyżej przeliczalnym zbiorze warunków początkowych oraz przeliczalnej liczbie zależności rekurencyjnych mają przeliczalną dziedzinę (więc są ciągami).',\n '',\n ' Podstawowe przykłady ciągów rekurencyjnych ',\n 'Niech  a,g,r  i  q  będą liczbami rzeczywistymi i niech  g 0 ,  q 0 .',\n '  silnia:   n!= ll 1&  dla  n=0 \\\\\\\\ (n-1)!  n&  dla  n 1  ciąg arytmetyczny:   a_n= ll a&  dla  n=0 \\\\\\\\ a _ n-1 +r&  dla  n 1  ciąg geometryczny:   g_n= ll g&  dla  n=0 \\\\\\\\ g _ n-1  q&  dla  n 1  Ciąg Fibonacciego ',\n 'F_0&=0, \\\\  F_1=1, \\\\\\\\ ',\n 'F_n&=F_ n-2 +F_ n-1 ',\n 'Początkowe wyrazy:  0,1,1,2,3,5,8,13,21,34, ',\n 'F_0=& \\\\, 0 \\\\\\\\ ',\n 'F_1=& \\\\, 1 \\\\\\\\ ',\n 'F_2=& \\\\, F_0+F_1=0+1=1 \\\\\\\\ ',\n 'F_3=& \\\\, F_1+F_2=1+1=2 \\\\\\\\ ',\n 'F_4=& \\\\, F_2+F_3=1+2=3',\n ' Wybrane własności ciągu Fibonacciego F_0+F_1+ +F_n=F_ n+2 -1 F_0^2+F_1^2+ +F_n^2=F_n  F_ n+1 F_ n+1 F_ n-1 =F_n^2+(-1)^n F_n^2+F_ n-1 ^2=F_ 2n-1 F_ n+1 F_m+F_nF_ m-1 =F_ m+n _ n F_ n+1 F_n = , gdzie  = 1+ 5 2  Ciąg Catalana C_0=1, \\\\, C_n= _ i=0 ^ n-1 C_iC_ n-i-1 ',\n 'Początkowe wyrazy:  1, 1, 2, 5, 14, 42, 132, 429, 1430, 4862, ',\n 'C_0=& \\\\, 1 \\\\\\\\ ',\n 'C_1=& \\\\, C_0C_0=1 \\\\\\\\ ',\n 'C_2=& \\\\, C_0C_1+C_1C_0=1+1=2 \\\\\\\\ ',\n 'C_3=& \\\\, C_0C_2+C_1C_1+C_2C_0=2+1+2=5 \\\\\\\\ ',\n 'C_4=& \\\\, C_0C_3+C_1C_2+C_2C_1+C_3C_0=5+2+2+5=14',\n ' Twierdzenie ',\n 'Wzór jawny ciągu Catalana ma postać',\n \" C_n= 1 n+1 2n  n = (2n)! (n+1)!  n! .  Funkcja McCarthy'ego M(n)= ll M M(n+11) & dla  1  n 100 \\\\\\\\ n -10& dla  n>100 \",\n 'Początkowe wyrazy:  91,91, ,91 _ 101 ,92,93,94,95,96,97,98,99,100,101, Przykład z   HAKMEM ',\n 'Niech  a_0  będzie dowolną liczbą i niech  a_ n+1  będzie liczbą liter potrzebnych do zapisu liczby  a_n  w języku angielskim.',\n '',\n 'Na przykład, jeżeli  a_0=33 , to otrzymujemy',\n ' 33 \\\\, (  thirty \\\\  three ) \\\\  \\\\  11 \\\\, (  eleven ) \\\\  \\\\  6 \\\\, (  six ) \\\\  \\\\  3 \\\\, (  three ) \\\\  \\\\  5 \\\\, (  five ) \\\\  \\\\  4 \\\\, (  four ) \\\\  \\\\  4 \\\\, (  four ) \\\\  \\\\  Przykład: Problem Collatza ',\n 'Niech  a_0  będzie dowoloną liczbą całkowitą dodatnią i niech',\n '  a_ n+1 = ll 12a_n,& \\\\   gdy  a_n  jest liczbą parzystą, \\\\\\\\ 3a_n+1,& \\\\   gdy  a_n  jest liczbą nieparzystą ',\n 'Przykładowy ciąg Collatza:  12,6,3,10,5,16,8,4,2, red 1,4,2,1,4, Definicja  Jednorodną liniową zależnością rekurencyjną II rzędu o stałych współczynnikach  nazywamy zależność postaci',\n ' jlzr ',\n 'a_n=Aa_ n-1 +Ba_ n-2 ,',\n ' ',\n 'gdzie  n  n_0 ,  A,B C  i  B 0 .',\n ' Szczególne przypadki ',\n 'Jak wygląda postać ogólna równania ( jlzr ) z danymi  a_0,a_1 C  przy założeniu, że \\\\\\\\ A  B=0  ?',\n ' % Rozpisać co wychodzi przy A=0 i przy B=0. Definicja  Równaniem charakterystycznym  dla  a_n=Aa_ n-1 +Ba_ n-2  nazywamy równanie  r^2-Ar-B=0 . Wielomian  r^2-Ar-B  nazywamy   wielomianem charakterystycznym  zależności~ jlzr .',\n ' Przykład: ciąg Fibonacciego ',\n 'F_0&=0, \\\\  F_1=1, \\\\, F_n=F_ n-1 +F_ n-2 ',\n 'Zatem  A=B=1 . Równanie charakterystyczne ciągu Fibonacciego to  r^2-r-1=0 .',\n ' Twierdzenie (postać rozwiązania równania  jlzr ) ',\n 'Niech ciąg  (a_n)  spełnia zależność rekurencyjną  jlzr .',\n '  Jeżeli równanie charakterystyczne dla  jlzr  ma dwa różne rozwiązania  r_1  i  r_2 , to  dwa a_n=C  r_1^n+D  r_2^n.  Jeżeli równanie charakterystyczne dla  jlzr  ma jedno rozwiązanie  r_0 , to  jed a_n=(C+Dn)  r_0^n. ',\n 'W powyższym twierdzeniu wartości  C,D  są wyznaczalne przy pomocy warunków początkowych (np.  a_0, \\\\, a_1 ) lub - ogólniej - przy pomocy wartości dowolnej pary  a_k, \\\\, a_l . ',\n '',\n 'Znając pierwiastki wielomianu charakterystycznego oraz dwie wartości ciągu, z~równania  dwa  lub  jed  można utworzyć układ dwóch równań liniowych z dwiema niewiadomymi ( C,D ).',\n '',\n ' Przykład ',\n 'Wyznaczyć wzór jawny ciągu  a_n , jeżeli  a_0=-1 ,  a_1=1  i  a_n=4a_ n-1 -3a_ n-2  dla  n 2 .',\n '',\n 'Zauważmy, że równanie charakterystyczne ma postać  r^2-4r+3=0,  więc jego pierwiastkami są liczby  r_1=1  i  r_2=3 . Zatem',\n ' a_n=A 1^n+B 3^n, \\\\   więc  \\\\  a_n=A+B 3^n. ',\n 'Podstawiając do powyższego wzoru wartości  a_0  i  a_1  otrzymujemy układ równań',\n ' l -1=A+B \\\\\\\\ 1=A+3B , \\\\   więc  \\\\  l A=-2 \\\\\\\\ B =1  .  Ostatecznie  a_n=-2+3^n. Przykład ',\n 'Wyznaczyć wzór jawny ciągu  a_n , jeżeli  a_1=0 ,  a_2=2  i  a_n=4a_ n-1 -4a_ n-2  dla  n 3 .',\n '',\n 'Zauważmy, że równanie charakterystyczne ma postać  r^2-4r+4=0,  więc jego jedynym pierwiastkiem jest liczba  r_0=2 . Zatem',\n ' a_n=(A+Bn) 2^n. ',\n 'Podstawiając do powyższego wzoru wartości  a_1  i  a_2  otrzymujemy układ równań',\n ' l 0=(A+B) 2 \\\\\\\\ 2=(A+2B) 4 , \\\\   więc  \\\\  l A=- 12 \\\\\\\\ B = 12  .  Ostatecznie  a_n= - 12+ 12n 2^n, \\\\   więc  \\\\  a_n=(n-1) 2^ n-1 . Definicja  Jednorodną liniową zależnością rekurencyjną  k -tego rzędu o stałych współczynnikach  nazywamy zależność postaci',\n ' jlzrk ',\n 'a_n=A_1a_ n-1 +A_2a_ n-2 + +A_ka_ n-k ,',\n ' ',\n 'gdzie  n  n_0 ,  A_1,A_2, ,A_k C  i  A_k 0 .',\n ' Definicja  Równaniem charakterystycznym  dla  jlzrk  nazywamy równanie  r^k-A_1r^ k-1 -A_2r^ k-2 - -A_ k-1 r-A_k=0. ',\n 'Lewą stronę powyższego równania nazywamy   wielomianem charakterystycznym  zależności  jlzrk .',\n ' Twierdzenie (postać rozwiązania równania ( jlzrk )) ',\n 'Niech ciąg  (a_n)  spełnia zależność rekurencyjną ( jlzrk ) i niech',\n ' f(r)=(r-r_1)^ m_1 (r-r_2)^ m_2 (r-r_s)^ m_s ',\n 'będzie jego wielomianem charakterystycznym. Wówczas',\n ' ',\n 'a_n=& \\\\, (A_ 1,1 +A_ 1,2  n+ +A_ 1,m_1  n^ m_1-1 )  r_1^n+ \\\\\\\\ & \\\\, +(A_ 2,1 +A_ 2,2  n+ +A_ 2,m_2  n^ m_2-1 )  r_2^n+ \\\\\\\\ & \\\\, + + \\\\\\\\ & \\\\, +(A_ s,1 +A_ s,2  n+ +A_ s,m_s  n^ m_s-1 )  r_s^n',\n ' ',\n 'W powyższym twierdzeniu współczynniki  A_ i,j  są wyznaczalne przy pomocy np. wartości początkowych.',\n '',\n ' Przykład ',\n 'Wyznaczyć wzór jawny ciągu  a_n , jeżeli  a_0=3 ,  a_1=4 ,  a_2=20  i~ a_n=-2a_ n-1 +4a_ n-2 +8a_ n-3  dla  n 3 .',\n '',\n 'Zauważmy, że równanie charakterystyczne ma postać  r^3+2r^2-4r-8=0.  Po przekształceniu wielomianu do postaci iloczynowej otrzymujemy ',\n ' (r-2)(r+2)^2=0. ',\n 'Jak widać,  r_1=2  jest jednokrotnym, natomiast  r_2=-2  dwukrotnym pierwiastkiem powyższego równania. Zatem',\n ' a_n=A 2^n+(Bn+C) (-2)^n  dla pewnych  A ,  B  i  C .',\n '',\n 'Podstawiając do powyższego wzoru wartości  a_0 ,  a_1  i  a_2  otrzymujemy układ równań',\n ' l 3=A+C \\\\\\\\ 4=2A-2B-2C \\\\\\\\ 20=4A+8B+4C , \\\\   więc  \\\\  l A=3 \\\\\\\\ B =1 \\\\\\\\ C =0  .  Ostatecznie  a_n=3 2^n+n (-2)^n .']"
     },
     "execution_count": 30,
     "metadata": {},
     "output_type": "execute_result"
    }
   ],
   "source": [
    "a"
   ],
   "metadata": {
    "collapsed": false,
    "ExecuteTime": {
     "end_time": "2025-01-13T08:32:36.792382Z",
     "start_time": "2025-01-13T08:32:36.784382Z"
    }
   },
   "execution_count": 30
  },
  {
   "cell_type": "code",
   "outputs": [],
   "source": [],
   "metadata": {
    "collapsed": false
   }
  }
 ],
 "metadata": {
  "kernelspec": {
   "display_name": "Python 3",
   "language": "python",
   "name": "python3"
  },
  "language_info": {
   "codemirror_mode": {
    "name": "ipython",
    "version": 2
   },
   "file_extension": ".py",
   "mimetype": "text/x-python",
   "name": "python",
   "nbconvert_exporter": "python",
   "pygments_lexer": "ipython2",
   "version": "2.7.6"
  }
 },
 "nbformat": 4,
 "nbformat_minor": 0
}
