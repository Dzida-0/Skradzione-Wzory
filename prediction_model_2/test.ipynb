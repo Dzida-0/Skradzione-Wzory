{
 "cells": [
  {
   "cell_type": "code",
   "execution_count": 1,
   "metadata": {
    "collapsed": true
   },
   "outputs": [],
   "source": [
    "from model import Model"
   ]
  },
  {
   "cell_type": "code",
   "execution_count": 2,
   "outputs": [],
   "source": [
    "pr_plagiat = [\"Zatem izomorfizm to bijekcja\",\"Jedynym maxtermem wśród powyższych co-termów jest  x_1   x_2  x_3 .\",'Każdy atom  Bool (n)  jest generowany przez dokładnie jeden minterm.']\n",
    "pr_original = [\"aaaaaaa\",\"Ten tekst nie jest plagiatem\",\"Zadanie nr 1: 2 + 3 = 5\", \"Losowy text\"]\n",
    "# bliżej 0 ogrinał, bliżej 1 plagiat"
   ],
   "metadata": {
    "collapsed": false
   }
  },
  {
   "cell_type": "code",
   "execution_count": 3,
   "outputs": [],
   "source": [
    "mod = Model()"
   ],
   "metadata": {
    "collapsed": false
   }
  },
  {
   "cell_type": "code",
   "execution_count": 4,
   "outputs": [
    {
     "name": "stdout",
     "output_type": "stream",
     "text": [
      "Epoch 1/10\n",
      "\u001B[1m103/103\u001B[0m \u001B[32m━━━━━━━━━━━━━━━━━━━━\u001B[0m\u001B[37m\u001B[0m \u001B[1m5s\u001B[0m 33ms/step - accuracy: 0.6020 - loss: 0.6260\n",
      "Epoch 2/10\n",
      "\u001B[1m103/103\u001B[0m \u001B[32m━━━━━━━━━━━━━━━━━━━━\u001B[0m\u001B[37m\u001B[0m \u001B[1m3s\u001B[0m 33ms/step - accuracy: 0.9492 - loss: 0.1063\n",
      "Epoch 3/10\n",
      "\u001B[1m103/103\u001B[0m \u001B[32m━━━━━━━━━━━━━━━━━━━━\u001B[0m\u001B[37m\u001B[0m \u001B[1m4s\u001B[0m 37ms/step - accuracy: 1.0000 - loss: 0.0062\n",
      "Epoch 4/10\n",
      "\u001B[1m103/103\u001B[0m \u001B[32m━━━━━━━━━━━━━━━━━━━━\u001B[0m\u001B[37m\u001B[0m \u001B[1m5s\u001B[0m 38ms/step - accuracy: 1.0000 - loss: 0.0015\n",
      "Epoch 5/10\n",
      "\u001B[1m103/103\u001B[0m \u001B[32m━━━━━━━━━━━━━━━━━━━━\u001B[0m\u001B[37m\u001B[0m \u001B[1m5s\u001B[0m 34ms/step - accuracy: 1.0000 - loss: 4.8826e-04\n",
      "Epoch 6/10\n",
      "\u001B[1m103/103\u001B[0m \u001B[32m━━━━━━━━━━━━━━━━━━━━\u001B[0m\u001B[37m\u001B[0m \u001B[1m3s\u001B[0m 31ms/step - accuracy: 1.0000 - loss: 5.1262e-04\n",
      "Epoch 7/10\n",
      "\u001B[1m103/103\u001B[0m \u001B[32m━━━━━━━━━━━━━━━━━━━━\u001B[0m\u001B[37m\u001B[0m \u001B[1m5s\u001B[0m 31ms/step - accuracy: 1.0000 - loss: 2.8724e-04\n",
      "Epoch 8/10\n",
      "\u001B[1m103/103\u001B[0m \u001B[32m━━━━━━━━━━━━━━━━━━━━\u001B[0m\u001B[37m\u001B[0m \u001B[1m4s\u001B[0m 39ms/step - accuracy: 1.0000 - loss: 3.3160e-04\n",
      "Epoch 9/10\n",
      "\u001B[1m103/103\u001B[0m \u001B[32m━━━━━━━━━━━━━━━━━━━━\u001B[0m\u001B[37m\u001B[0m \u001B[1m4s\u001B[0m 38ms/step - accuracy: 1.0000 - loss: 2.8600e-04\n",
      "Epoch 10/10\n",
      "\u001B[1m103/103\u001B[0m \u001B[32m━━━━━━━━━━━━━━━━━━━━\u001B[0m\u001B[37m\u001B[0m \u001B[1m3s\u001B[0m 32ms/step - accuracy: 1.0000 - loss: 1.2087e-04\n"
     ]
    }
   ],
   "source": [
    "mod.train(filters=1024,output_dim=512)"
   ],
   "metadata": {
    "collapsed": false
   }
  },
  {
   "cell_type": "code",
   "execution_count": 5,
   "outputs": [],
   "source": [
    "mod.save_model()"
   ],
   "metadata": {
    "collapsed": false
   }
  },
  {
   "cell_type": "code",
   "execution_count": 6,
   "outputs": [],
   "source": [
    "mod = Model()"
   ],
   "metadata": {
    "collapsed": false
   }
  },
  {
   "cell_type": "code",
   "execution_count": 7,
   "outputs": [],
   "source": [
    "mod.load_model()"
   ],
   "metadata": {
    "collapsed": false
   }
  },
  {
   "cell_type": "code",
   "execution_count": 8,
   "outputs": [
    {
     "ename": "ValueError",
     "evalue": "Exception encountered when calling Conv1D.call().\n\n\u001B[1mNegative dimension size caused by subtracting 2 from 0 for '{{node sequential_1/conv1d_1/convolution}} = Conv2D[T=DT_FLOAT, data_format=\"NHWC\", dilations=[1, 1, 1, 1], explicit_paddings=[], padding=\"VALID\", strides=[1, 1, 1, 1], use_cudnn_on_gpu=true](sequential_1/conv1d_1/convolution/ExpandDims, sequential_1/conv1d_1/convolution/ExpandDims_1)' with input shapes: [1,1,0,512], [1,2,512,1024].\u001B[0m\n\nArguments received by Conv1D.call():\n  • inputs=tf.Tensor(shape=(1, 0, 512), dtype=float32)",
     "output_type": "error",
     "traceback": [
      "\u001B[1;31m---------------------------------------------------------------------------\u001B[0m",
      "\u001B[1;31mValueError\u001B[0m                                Traceback (most recent call last)",
      "Cell \u001B[1;32mIn[8], line 2\u001B[0m\n\u001B[0;32m      1\u001B[0m \u001B[38;5;28;01mfor\u001B[39;00m i \u001B[38;5;129;01min\u001B[39;00m pr_original:\n\u001B[1;32m----> 2\u001B[0m     \u001B[38;5;28mprint\u001B[39m(\u001B[43mmod\u001B[49m\u001B[38;5;241;43m.\u001B[39;49m\u001B[43mpredict\u001B[49m\u001B[43m(\u001B[49m\u001B[43mi\u001B[49m\u001B[43m)\u001B[49m, i)\n\u001B[0;32m      3\u001B[0m \u001B[38;5;28mprint\u001B[39m(\u001B[38;5;124m\"\u001B[39m\u001B[38;5;124m--------------------------\u001B[39m\u001B[38;5;124m\"\u001B[39m)\n\u001B[0;32m      4\u001B[0m \u001B[38;5;28;01mfor\u001B[39;00m i \u001B[38;5;129;01min\u001B[39;00m pr_plagiat:\n",
      "File \u001B[1;32m~\\Desktop\\STUDIA\\Sem. V\\Inżynieria_Oprogramowania\\Skradzione-Wzory\\prediction_model_2\\model.py:77\u001B[0m, in \u001B[0;36mModel.predict\u001B[1;34m(self, text)\u001B[0m\n\u001B[0;32m     75\u001B[0m new_sequences \u001B[38;5;241m=\u001B[39m \u001B[38;5;28mself\u001B[39m\u001B[38;5;241m.\u001B[39m_tokenizer\u001B[38;5;241m.\u001B[39mtexts_to_sequences([text])\n\u001B[0;32m     76\u001B[0m new_X \u001B[38;5;241m=\u001B[39m pad_sequences(new_sequences, maxlen\u001B[38;5;241m=\u001B[39m\u001B[38;5;28mself\u001B[39m\u001B[38;5;241m.\u001B[39m_max_len)\n\u001B[1;32m---> 77\u001B[0m predictions \u001B[38;5;241m=\u001B[39m \u001B[38;5;28;43mself\u001B[39;49m\u001B[38;5;241;43m.\u001B[39;49m\u001B[43m_model\u001B[49m\u001B[38;5;241;43m.\u001B[39;49m\u001B[43mpredict\u001B[49m\u001B[43m(\u001B[49m\u001B[43mnew_X\u001B[49m\u001B[43m)\u001B[49m\n\u001B[0;32m     78\u001B[0m \u001B[38;5;28;01mreturn\u001B[39;00m predictions[\u001B[38;5;241m0\u001B[39m][\u001B[38;5;241m0\u001B[39m]\n",
      "File \u001B[1;32m~\\Desktop\\STUDIA\\Sem. V\\Inżynieria_Oprogramowania\\Skradzione-Wzory\\venv\\Lib\\site-packages\\keras\\src\\utils\\traceback_utils.py:122\u001B[0m, in \u001B[0;36mfilter_traceback.<locals>.error_handler\u001B[1;34m(*args, **kwargs)\u001B[0m\n\u001B[0;32m    119\u001B[0m     filtered_tb \u001B[38;5;241m=\u001B[39m _process_traceback_frames(e\u001B[38;5;241m.\u001B[39m__traceback__)\n\u001B[0;32m    120\u001B[0m     \u001B[38;5;66;03m# To get the full stack trace, call:\u001B[39;00m\n\u001B[0;32m    121\u001B[0m     \u001B[38;5;66;03m# `keras.config.disable_traceback_filtering()`\u001B[39;00m\n\u001B[1;32m--> 122\u001B[0m     \u001B[38;5;28;01mraise\u001B[39;00m e\u001B[38;5;241m.\u001B[39mwith_traceback(filtered_tb) \u001B[38;5;28;01mfrom\u001B[39;00m \u001B[38;5;28;01mNone\u001B[39;00m\n\u001B[0;32m    123\u001B[0m \u001B[38;5;28;01mfinally\u001B[39;00m:\n\u001B[0;32m    124\u001B[0m     \u001B[38;5;28;01mdel\u001B[39;00m filtered_tb\n",
      "File \u001B[1;32m~\\Desktop\\STUDIA\\Sem. V\\Inżynieria_Oprogramowania\\Skradzione-Wzory\\venv\\Lib\\site-packages\\keras\\src\\utils\\traceback_utils.py:122\u001B[0m, in \u001B[0;36mfilter_traceback.<locals>.error_handler\u001B[1;34m(*args, **kwargs)\u001B[0m\n\u001B[0;32m    119\u001B[0m     filtered_tb \u001B[38;5;241m=\u001B[39m _process_traceback_frames(e\u001B[38;5;241m.\u001B[39m__traceback__)\n\u001B[0;32m    120\u001B[0m     \u001B[38;5;66;03m# To get the full stack trace, call:\u001B[39;00m\n\u001B[0;32m    121\u001B[0m     \u001B[38;5;66;03m# `keras.config.disable_traceback_filtering()`\u001B[39;00m\n\u001B[1;32m--> 122\u001B[0m     \u001B[38;5;28;01mraise\u001B[39;00m e\u001B[38;5;241m.\u001B[39mwith_traceback(filtered_tb) \u001B[38;5;28;01mfrom\u001B[39;00m \u001B[38;5;28;01mNone\u001B[39;00m\n\u001B[0;32m    123\u001B[0m \u001B[38;5;28;01mfinally\u001B[39;00m:\n\u001B[0;32m    124\u001B[0m     \u001B[38;5;28;01mdel\u001B[39;00m filtered_tb\n",
      "\u001B[1;31mValueError\u001B[0m: Exception encountered when calling Conv1D.call().\n\n\u001B[1mNegative dimension size caused by subtracting 2 from 0 for '{{node sequential_1/conv1d_1/convolution}} = Conv2D[T=DT_FLOAT, data_format=\"NHWC\", dilations=[1, 1, 1, 1], explicit_paddings=[], padding=\"VALID\", strides=[1, 1, 1, 1], use_cudnn_on_gpu=true](sequential_1/conv1d_1/convolution/ExpandDims, sequential_1/conv1d_1/convolution/ExpandDims_1)' with input shapes: [1,1,0,512], [1,2,512,1024].\u001B[0m\n\nArguments received by Conv1D.call():\n  • inputs=tf.Tensor(shape=(1, 0, 512), dtype=float32)"
     ]
    }
   ],
   "source": [
    "for i in pr_original:\n",
    "    print(mod.predict(i), i)\n",
    "print(\"--------------------------\")\n",
    "for i in pr_plagiat:\n",
    "    print(mod.predict(i), i)"
   ],
   "metadata": {
    "collapsed": false
   }
  },
  {
   "cell_type": "code",
   "execution_count": null,
   "outputs": [],
   "source": [
    "tr = {\"Zatem izomorfizm to bijekcja\":1,\n",
    "      \"Jedynym maxtermem wśród powyższych co-termów jest  x_1   x_2  x_3 .\":1,\n",
    "      'Każdy atom  Bool (n)  jest generowany przez dokładnie jeden minterm.':1,\n",
    "      \"aaaaaaa\":0,\n",
    "      \"Ten tekst nie jest plagiatem\":0,\n",
    "      \"Zadanie nr 1: 2 + 3 = 5\":0,\n",
    "      \"Losowy text\":0}\n",
    "df = mod.find_best(tr,[16,32,64],[16,32,64])"
   ],
   "metadata": {
    "collapsed": false
   }
  },
  {
   "cell_type": "code",
   "execution_count": null,
   "outputs": [],
   "source": [
    "df"
   ],
   "metadata": {
    "collapsed": false
   }
  }
 ],
 "metadata": {
  "kernelspec": {
   "display_name": "Python 3",
   "language": "python",
   "name": "python3"
  },
  "language_info": {
   "codemirror_mode": {
    "name": "ipython",
    "version": 2
   },
   "file_extension": ".py",
   "mimetype": "text/x-python",
   "name": "python",
   "nbconvert_exporter": "python",
   "pygments_lexer": "ipython2",
   "version": "2.7.6"
  }
 },
 "nbformat": 4,
 "nbformat_minor": 0
}
