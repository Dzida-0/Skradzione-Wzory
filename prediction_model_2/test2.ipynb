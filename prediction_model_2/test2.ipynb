{
 "cells": [
  {
   "cell_type": "code",
   "execution_count": 4,
   "outputs": [],
   "source": [
    "from model import Model"
   ],
   "metadata": {
    "collapsed": false
   }
  },
  {
   "cell_type": "code",
   "execution_count": 16,
   "outputs": [],
   "source": [
    "mod = Model()\n",
    "mod.load_model('test_generate_21_f_256_1024_o256_e20')"
   ],
   "metadata": {
    "collapsed": false
   }
  },
  {
   "cell_type": "code",
   "execution_count": 17,
   "outputs": [],
   "source": [
    "d = mod.predict_from_latex('4.tex')"
   ],
   "metadata": {
    "collapsed": false
   }
  },
  {
   "cell_type": "code",
   "execution_count": 18,
   "outputs": [
    {
     "data": {
      "text/plain": "                                                 text   predict\n0   a4paper,10pt beamer T1,plmath polski cp1250 in...  1.000000\n1                Niech  m 0  bêdzie liczb¹ ca³kowit¹.  1.000000\n2                    Doln¹ silni¹  nazywamy wyra¿enie  1.000000\n3                    Górn¹ silni¹  nazywamy wyra¿enie  1.000000\n4   Wyra¿enie  x^ m  czytamy ,, x  do  m -tej ubyw...  1.000000\n5   Przyk³ad 5^ 3 =5 4 3=60 5^ 3 =5 6 7=210 4^ 5 =...  1.000000\n6       Definicja (liczby Stirlinga drugiego rodzaju)  1.000000\n7   Symbol  n  k (czyt.  k  podzbiorów  n ) oznacz...  1.000000\n8   Liczby Stirlinga drugiego rodzaju wystêpuj¹ cz...  1.000000\n9                              Wyznacz wartoœæ  4 2 .  0.999999\n10  Wyznaczymy liczbê podzia³ów zbioru czterolemen...  1.000000\n11                                    Zatem  4 2 =7 .  1.000000\n12           Wartoœci  n  k  dla ma³ych wartoœci  k :  1.000000\n13                                              k=0 .  0.999931\n14  Przyjmujemy, ¿e  0 0 =1 . Je¿eli  n>0  to, ocz...  1.000000\n15                                              k=1 .  0.999868\n16  Mamy  0 1 =0 . Dla  n>0  istnieje dok³adnie je...  1.000000\n17                                              k=2 .  0.999098\n18  Oczywiœcie  0 2 =0 . Za³ó¿my, ¿e  n>0 . Chcemy...  1.000000\n19              Wartoœci  n  k  dla ma³ych  n  i  k :  1.000000\n20                                             Uwaga!  0.999999\n21  W przypadku, gdy  n 0  i  k<0  zak³adamy, ¿e  ...  1.000000\n22                                        Twierdzenie  0.999995\n23          Dla  n>0  zachodzi zale¿noœæ rekurencyjna  1.000000\n24                                      Dowód.  (1/2)  1.000000\n25  Niech  S= \\{ a_1,a_2, ,a_n \\} . Okreœlimy licz...  1.000000\n26  W pierwszym przypadku mamy  n-1 k-1  mo¿liwoœc...  1.000000\n27                                      Dowód.  (2/2)  1.000000\n28  W drugim przypadku mamy  n-1  k  mo¿liwoœci po...  1.000000\n29                                        Ostatecznie  0.999995\n30                  Trójk¹t Stirlinga dla podzbiorów:  1.000000\n31                                   Zatem  4 2 =11 .  1.000000\n32                                 exampleblock frame  0.999997\n33  Podobnie jak w przypadku liczb Stirlinga drugi...  1.000000\n34  Oczywiœcie  0 1 =0 . Pamiêtamy, ¿e zbiór  n -e...  1.000000\n35  Poni¿szy dowód jest modyfikacj¹ wczeœniej prze...  1.000000\n36  Niech  S= \\{ a_1,a_2, ,a_n \\} . Okreœlimy licz...  1.000000\n37  W pierwszym przypadku mamy  n-1 k-1  mo¿liwoœc...  1.000000\n38  W drugim przypadku mamy  n-1  k  mo¿liwoœci po...  1.000000\n39                       Trójk¹t Stirlinga dla cykli:  1.000000\n40  Zauwa¿my, ¿e  n  k  oznacza liczbê permutacji ...  1.000000\n41                                           Przyk³ad  0.999937\n42  Zapisz w postaci ogólnej wielomiany  x^ s  dla...  1.000000\n43  Jak powinno wygl¹daæ uogólnienie zaobserwowany...  0.999988\n44                                               Wzór  0.999995\n45  zachodzi dla ka¿dej liczby ca³kowitej dodatnie...  1.000000\n46  Zauwa¿my, ¿e jak w powy¿szym wzorze podstawimy...  1.000000\n47  Dowód powy¿szego twierdzenia mo¿na przeprowadz...  1.000000\n48  Zale¿noœci miêdzy liczbami Strilinga pierwszeg...  1.000000\n49  Zauwa¿my, ¿e liczba cykli musi byæ co najmniej...  1.000000\n50             dla ca³kowitych nieujemnych  n  i  k .  1.000000\n51                   Zachodz¹ tzw.   wzory inwersji :  0.999999\n52                                  Je¿eli  m  n , to  0.999979\n53  n  k  --- liczba  k -elementowych podzbiorów z...  1.000000\n54  n  k  --- liczba podzia³ów  n -elementowego zb...  1.000000\n55  n  k  --- liczba permutacji  n -elementowego z...  1.000000\n56  Liczby Stirlinga pierwszego rodzaju nazywane s...  1.000000\n57                                           document  0.999913",
      "text/html": "<div>\n<style scoped>\n    .dataframe tbody tr th:only-of-type {\n        vertical-align: middle;\n    }\n\n    .dataframe tbody tr th {\n        vertical-align: top;\n    }\n\n    .dataframe thead th {\n        text-align: right;\n    }\n</style>\n<table border=\"1\" class=\"dataframe\">\n  <thead>\n    <tr style=\"text-align: right;\">\n      <th></th>\n      <th>text</th>\n      <th>predict</th>\n    </tr>\n  </thead>\n  <tbody>\n    <tr>\n      <th>0</th>\n      <td>a4paper,10pt beamer T1,plmath polski cp1250 in...</td>\n      <td>1.000000</td>\n    </tr>\n    <tr>\n      <th>1</th>\n      <td>Niech  m 0  bêdzie liczb¹ ca³kowit¹.</td>\n      <td>1.000000</td>\n    </tr>\n    <tr>\n      <th>2</th>\n      <td>Doln¹ silni¹  nazywamy wyra¿enie</td>\n      <td>1.000000</td>\n    </tr>\n    <tr>\n      <th>3</th>\n      <td>Górn¹ silni¹  nazywamy wyra¿enie</td>\n      <td>1.000000</td>\n    </tr>\n    <tr>\n      <th>4</th>\n      <td>Wyra¿enie  x^ m  czytamy ,, x  do  m -tej ubyw...</td>\n      <td>1.000000</td>\n    </tr>\n    <tr>\n      <th>5</th>\n      <td>Przyk³ad 5^ 3 =5 4 3=60 5^ 3 =5 6 7=210 4^ 5 =...</td>\n      <td>1.000000</td>\n    </tr>\n    <tr>\n      <th>6</th>\n      <td>Definicja (liczby Stirlinga drugiego rodzaju)</td>\n      <td>1.000000</td>\n    </tr>\n    <tr>\n      <th>7</th>\n      <td>Symbol  n  k (czyt.  k  podzbiorów  n ) oznacz...</td>\n      <td>1.000000</td>\n    </tr>\n    <tr>\n      <th>8</th>\n      <td>Liczby Stirlinga drugiego rodzaju wystêpuj¹ cz...</td>\n      <td>1.000000</td>\n    </tr>\n    <tr>\n      <th>9</th>\n      <td>Wyznacz wartoœæ  4 2 .</td>\n      <td>0.999999</td>\n    </tr>\n    <tr>\n      <th>10</th>\n      <td>Wyznaczymy liczbê podzia³ów zbioru czterolemen...</td>\n      <td>1.000000</td>\n    </tr>\n    <tr>\n      <th>11</th>\n      <td>Zatem  4 2 =7 .</td>\n      <td>1.000000</td>\n    </tr>\n    <tr>\n      <th>12</th>\n      <td>Wartoœci  n  k  dla ma³ych wartoœci  k :</td>\n      <td>1.000000</td>\n    </tr>\n    <tr>\n      <th>13</th>\n      <td>k=0 .</td>\n      <td>0.999931</td>\n    </tr>\n    <tr>\n      <th>14</th>\n      <td>Przyjmujemy, ¿e  0 0 =1 . Je¿eli  n&gt;0  to, ocz...</td>\n      <td>1.000000</td>\n    </tr>\n    <tr>\n      <th>15</th>\n      <td>k=1 .</td>\n      <td>0.999868</td>\n    </tr>\n    <tr>\n      <th>16</th>\n      <td>Mamy  0 1 =0 . Dla  n&gt;0  istnieje dok³adnie je...</td>\n      <td>1.000000</td>\n    </tr>\n    <tr>\n      <th>17</th>\n      <td>k=2 .</td>\n      <td>0.999098</td>\n    </tr>\n    <tr>\n      <th>18</th>\n      <td>Oczywiœcie  0 2 =0 . Za³ó¿my, ¿e  n&gt;0 . Chcemy...</td>\n      <td>1.000000</td>\n    </tr>\n    <tr>\n      <th>19</th>\n      <td>Wartoœci  n  k  dla ma³ych  n  i  k :</td>\n      <td>1.000000</td>\n    </tr>\n    <tr>\n      <th>20</th>\n      <td>Uwaga!</td>\n      <td>0.999999</td>\n    </tr>\n    <tr>\n      <th>21</th>\n      <td>W przypadku, gdy  n 0  i  k&lt;0  zak³adamy, ¿e  ...</td>\n      <td>1.000000</td>\n    </tr>\n    <tr>\n      <th>22</th>\n      <td>Twierdzenie</td>\n      <td>0.999995</td>\n    </tr>\n    <tr>\n      <th>23</th>\n      <td>Dla  n&gt;0  zachodzi zale¿noœæ rekurencyjna</td>\n      <td>1.000000</td>\n    </tr>\n    <tr>\n      <th>24</th>\n      <td>Dowód.  (1/2)</td>\n      <td>1.000000</td>\n    </tr>\n    <tr>\n      <th>25</th>\n      <td>Niech  S= \\{ a_1,a_2, ,a_n \\} . Okreœlimy licz...</td>\n      <td>1.000000</td>\n    </tr>\n    <tr>\n      <th>26</th>\n      <td>W pierwszym przypadku mamy  n-1 k-1  mo¿liwoœc...</td>\n      <td>1.000000</td>\n    </tr>\n    <tr>\n      <th>27</th>\n      <td>Dowód.  (2/2)</td>\n      <td>1.000000</td>\n    </tr>\n    <tr>\n      <th>28</th>\n      <td>W drugim przypadku mamy  n-1  k  mo¿liwoœci po...</td>\n      <td>1.000000</td>\n    </tr>\n    <tr>\n      <th>29</th>\n      <td>Ostatecznie</td>\n      <td>0.999995</td>\n    </tr>\n    <tr>\n      <th>30</th>\n      <td>Trójk¹t Stirlinga dla podzbiorów:</td>\n      <td>1.000000</td>\n    </tr>\n    <tr>\n      <th>31</th>\n      <td>Zatem  4 2 =11 .</td>\n      <td>1.000000</td>\n    </tr>\n    <tr>\n      <th>32</th>\n      <td>exampleblock frame</td>\n      <td>0.999997</td>\n    </tr>\n    <tr>\n      <th>33</th>\n      <td>Podobnie jak w przypadku liczb Stirlinga drugi...</td>\n      <td>1.000000</td>\n    </tr>\n    <tr>\n      <th>34</th>\n      <td>Oczywiœcie  0 1 =0 . Pamiêtamy, ¿e zbiór  n -e...</td>\n      <td>1.000000</td>\n    </tr>\n    <tr>\n      <th>35</th>\n      <td>Poni¿szy dowód jest modyfikacj¹ wczeœniej prze...</td>\n      <td>1.000000</td>\n    </tr>\n    <tr>\n      <th>36</th>\n      <td>Niech  S= \\{ a_1,a_2, ,a_n \\} . Okreœlimy licz...</td>\n      <td>1.000000</td>\n    </tr>\n    <tr>\n      <th>37</th>\n      <td>W pierwszym przypadku mamy  n-1 k-1  mo¿liwoœc...</td>\n      <td>1.000000</td>\n    </tr>\n    <tr>\n      <th>38</th>\n      <td>W drugim przypadku mamy  n-1  k  mo¿liwoœci po...</td>\n      <td>1.000000</td>\n    </tr>\n    <tr>\n      <th>39</th>\n      <td>Trójk¹t Stirlinga dla cykli:</td>\n      <td>1.000000</td>\n    </tr>\n    <tr>\n      <th>40</th>\n      <td>Zauwa¿my, ¿e  n  k  oznacza liczbê permutacji ...</td>\n      <td>1.000000</td>\n    </tr>\n    <tr>\n      <th>41</th>\n      <td>Przyk³ad</td>\n      <td>0.999937</td>\n    </tr>\n    <tr>\n      <th>42</th>\n      <td>Zapisz w postaci ogólnej wielomiany  x^ s  dla...</td>\n      <td>1.000000</td>\n    </tr>\n    <tr>\n      <th>43</th>\n      <td>Jak powinno wygl¹daæ uogólnienie zaobserwowany...</td>\n      <td>0.999988</td>\n    </tr>\n    <tr>\n      <th>44</th>\n      <td>Wzór</td>\n      <td>0.999995</td>\n    </tr>\n    <tr>\n      <th>45</th>\n      <td>zachodzi dla ka¿dej liczby ca³kowitej dodatnie...</td>\n      <td>1.000000</td>\n    </tr>\n    <tr>\n      <th>46</th>\n      <td>Zauwa¿my, ¿e jak w powy¿szym wzorze podstawimy...</td>\n      <td>1.000000</td>\n    </tr>\n    <tr>\n      <th>47</th>\n      <td>Dowód powy¿szego twierdzenia mo¿na przeprowadz...</td>\n      <td>1.000000</td>\n    </tr>\n    <tr>\n      <th>48</th>\n      <td>Zale¿noœci miêdzy liczbami Strilinga pierwszeg...</td>\n      <td>1.000000</td>\n    </tr>\n    <tr>\n      <th>49</th>\n      <td>Zauwa¿my, ¿e liczba cykli musi byæ co najmniej...</td>\n      <td>1.000000</td>\n    </tr>\n    <tr>\n      <th>50</th>\n      <td>dla ca³kowitych nieujemnych  n  i  k .</td>\n      <td>1.000000</td>\n    </tr>\n    <tr>\n      <th>51</th>\n      <td>Zachodz¹ tzw.   wzory inwersji :</td>\n      <td>0.999999</td>\n    </tr>\n    <tr>\n      <th>52</th>\n      <td>Je¿eli  m  n , to</td>\n      <td>0.999979</td>\n    </tr>\n    <tr>\n      <th>53</th>\n      <td>n  k  --- liczba  k -elementowych podzbiorów z...</td>\n      <td>1.000000</td>\n    </tr>\n    <tr>\n      <th>54</th>\n      <td>n  k  --- liczba podzia³ów  n -elementowego zb...</td>\n      <td>1.000000</td>\n    </tr>\n    <tr>\n      <th>55</th>\n      <td>n  k  --- liczba permutacji  n -elementowego z...</td>\n      <td>1.000000</td>\n    </tr>\n    <tr>\n      <th>56</th>\n      <td>Liczby Stirlinga pierwszego rodzaju nazywane s...</td>\n      <td>1.000000</td>\n    </tr>\n    <tr>\n      <th>57</th>\n      <td>document</td>\n      <td>0.999913</td>\n    </tr>\n  </tbody>\n</table>\n</div>"
     },
     "execution_count": 18,
     "metadata": {},
     "output_type": "execute_result"
    }
   ],
   "source": [
    "import pandas as pd\n",
    "pd.DataFrame(list(d.items()), columns=[\"text\", \"predict\"])"
   ],
   "metadata": {
    "collapsed": false
   }
  },
  {
   "cell_type": "code",
   "execution_count": 19,
   "outputs": [
    {
     "data": {
      "text/plain": "np.float32(0.9999775)"
     },
     "execution_count": 19,
     "metadata": {},
     "output_type": "execute_result"
    }
   ],
   "source": [
    "sum(d.values())/len(d)"
   ],
   "metadata": {
    "collapsed": false
   }
  },
  {
   "cell_type": "code",
   "execution_count": 20,
   "outputs": [
    {
     "data": {
      "text/plain": "                                                 text       predict\n0   article % Language setting % Replace `english'...  1.000000e+00\n1                                      Your abstract.  9.924637e-01\n2                                        Introduction  9.924637e-01\n3   Your introduction goes here! Simply start writ...  5.348964e-01\n4   Once you're familiar with the editor, you can ...  4.377979e-08\n5   Some examples to get started How to create Sec...  1.971224e-13\n6   Simply use the section and subsection commands...  9.990213e-01\n7                              How to include Figures  6.726301e-04\n8   First you have to upload the image file from y...  7.862818e-08\n9   Note that your figure will automatically be pl...  4.524228e-07\n10                                  How to add Tables  6.726301e-04\n11  Use the table and tabular environments for bas...  9.999386e-01\n12  tab:widgets An example table. How to add Comme...  8.805434e-08\n13  Comments can be added to your project by highl...  6.347425e-06\n14  Track changes are available on all our  https:...  9.255986e-01\n15                                   How to add Lists  6.726301e-04\n16  You can make lists with automatic numbering   ...  9.330162e-01\n17                                     and like this.  7.380559e-01\n18                      or bullet points   Like this,  4.021970e-01\n19  How to write Mathematics  is great at typesett...  3.005083e-02\n20                       S_n =  X_1 + X_2 +   + X_n n  9.999875e-01\n21                                =  1 n _ i ^ n  X_i  9.976858e-01\n22  denote their mean. Then as  n  approaches infi...  8.177997e-01\n23           How to change the margins and paper size  3.316777e-07\n24  Usually the template you're using will have th...  1.118108e-05\n25  If however you're using a more general templat...  2.586403e-15\n26  How to change the document language and spell ...  3.988922e-04\n27  Overleaf supports many different languages, in...  9.279820e-01\n28  To configure the document language, simply edi...  1.725721e-05\n29  To change the spell check language, simply ope...  5.118902e-08\n30         How to add Citations and a References List  5.189603e-09\n31  You can simply upload a  |.bib| file containin...  9.988526e-03\n32  If you have an  https://www.overleaf.com/user/...  9.999889e-01\n33                                         Good luck!  9.924637e-01\n34  We hope you find Overleaf useful, and do take ...  9.999775e-01\n35                                       alpha sample  9.924637e-01",
      "text/html": "<div>\n<style scoped>\n    .dataframe tbody tr th:only-of-type {\n        vertical-align: middle;\n    }\n\n    .dataframe tbody tr th {\n        vertical-align: top;\n    }\n\n    .dataframe thead th {\n        text-align: right;\n    }\n</style>\n<table border=\"1\" class=\"dataframe\">\n  <thead>\n    <tr style=\"text-align: right;\">\n      <th></th>\n      <th>text</th>\n      <th>predict</th>\n    </tr>\n  </thead>\n  <tbody>\n    <tr>\n      <th>0</th>\n      <td>article % Language setting % Replace `english'...</td>\n      <td>1.000000e+00</td>\n    </tr>\n    <tr>\n      <th>1</th>\n      <td>Your abstract.</td>\n      <td>9.924637e-01</td>\n    </tr>\n    <tr>\n      <th>2</th>\n      <td>Introduction</td>\n      <td>9.924637e-01</td>\n    </tr>\n    <tr>\n      <th>3</th>\n      <td>Your introduction goes here! Simply start writ...</td>\n      <td>5.348964e-01</td>\n    </tr>\n    <tr>\n      <th>4</th>\n      <td>Once you're familiar with the editor, you can ...</td>\n      <td>4.377979e-08</td>\n    </tr>\n    <tr>\n      <th>5</th>\n      <td>Some examples to get started How to create Sec...</td>\n      <td>1.971224e-13</td>\n    </tr>\n    <tr>\n      <th>6</th>\n      <td>Simply use the section and subsection commands...</td>\n      <td>9.990213e-01</td>\n    </tr>\n    <tr>\n      <th>7</th>\n      <td>How to include Figures</td>\n      <td>6.726301e-04</td>\n    </tr>\n    <tr>\n      <th>8</th>\n      <td>First you have to upload the image file from y...</td>\n      <td>7.862818e-08</td>\n    </tr>\n    <tr>\n      <th>9</th>\n      <td>Note that your figure will automatically be pl...</td>\n      <td>4.524228e-07</td>\n    </tr>\n    <tr>\n      <th>10</th>\n      <td>How to add Tables</td>\n      <td>6.726301e-04</td>\n    </tr>\n    <tr>\n      <th>11</th>\n      <td>Use the table and tabular environments for bas...</td>\n      <td>9.999386e-01</td>\n    </tr>\n    <tr>\n      <th>12</th>\n      <td>tab:widgets An example table. How to add Comme...</td>\n      <td>8.805434e-08</td>\n    </tr>\n    <tr>\n      <th>13</th>\n      <td>Comments can be added to your project by highl...</td>\n      <td>6.347425e-06</td>\n    </tr>\n    <tr>\n      <th>14</th>\n      <td>Track changes are available on all our  https:...</td>\n      <td>9.255986e-01</td>\n    </tr>\n    <tr>\n      <th>15</th>\n      <td>How to add Lists</td>\n      <td>6.726301e-04</td>\n    </tr>\n    <tr>\n      <th>16</th>\n      <td>You can make lists with automatic numbering   ...</td>\n      <td>9.330162e-01</td>\n    </tr>\n    <tr>\n      <th>17</th>\n      <td>and like this.</td>\n      <td>7.380559e-01</td>\n    </tr>\n    <tr>\n      <th>18</th>\n      <td>or bullet points   Like this,</td>\n      <td>4.021970e-01</td>\n    </tr>\n    <tr>\n      <th>19</th>\n      <td>How to write Mathematics  is great at typesett...</td>\n      <td>3.005083e-02</td>\n    </tr>\n    <tr>\n      <th>20</th>\n      <td>S_n =  X_1 + X_2 +   + X_n n</td>\n      <td>9.999875e-01</td>\n    </tr>\n    <tr>\n      <th>21</th>\n      <td>=  1 n _ i ^ n  X_i</td>\n      <td>9.976858e-01</td>\n    </tr>\n    <tr>\n      <th>22</th>\n      <td>denote their mean. Then as  n  approaches infi...</td>\n      <td>8.177997e-01</td>\n    </tr>\n    <tr>\n      <th>23</th>\n      <td>How to change the margins and paper size</td>\n      <td>3.316777e-07</td>\n    </tr>\n    <tr>\n      <th>24</th>\n      <td>Usually the template you're using will have th...</td>\n      <td>1.118108e-05</td>\n    </tr>\n    <tr>\n      <th>25</th>\n      <td>If however you're using a more general templat...</td>\n      <td>2.586403e-15</td>\n    </tr>\n    <tr>\n      <th>26</th>\n      <td>How to change the document language and spell ...</td>\n      <td>3.988922e-04</td>\n    </tr>\n    <tr>\n      <th>27</th>\n      <td>Overleaf supports many different languages, in...</td>\n      <td>9.279820e-01</td>\n    </tr>\n    <tr>\n      <th>28</th>\n      <td>To configure the document language, simply edi...</td>\n      <td>1.725721e-05</td>\n    </tr>\n    <tr>\n      <th>29</th>\n      <td>To change the spell check language, simply ope...</td>\n      <td>5.118902e-08</td>\n    </tr>\n    <tr>\n      <th>30</th>\n      <td>How to add Citations and a References List</td>\n      <td>5.189603e-09</td>\n    </tr>\n    <tr>\n      <th>31</th>\n      <td>You can simply upload a  |.bib| file containin...</td>\n      <td>9.988526e-03</td>\n    </tr>\n    <tr>\n      <th>32</th>\n      <td>If you have an  https://www.overleaf.com/user/...</td>\n      <td>9.999889e-01</td>\n    </tr>\n    <tr>\n      <th>33</th>\n      <td>Good luck!</td>\n      <td>9.924637e-01</td>\n    </tr>\n    <tr>\n      <th>34</th>\n      <td>We hope you find Overleaf useful, and do take ...</td>\n      <td>9.999775e-01</td>\n    </tr>\n    <tr>\n      <th>35</th>\n      <td>alpha sample</td>\n      <td>9.924637e-01</td>\n    </tr>\n  </tbody>\n</table>\n</div>"
     },
     "execution_count": 20,
     "metadata": {},
     "output_type": "execute_result"
    }
   ],
   "source": [
    "e = mod.predict_from_latex('rn.tex')\n",
    "pd.DataFrame(list(e.items()), columns=[\"text\", \"predict\"])"
   ],
   "metadata": {
    "collapsed": false
   }
  },
  {
   "cell_type": "code",
   "execution_count": 21,
   "outputs": [
    {
     "data": {
      "text/plain": "np.float32(0.4524581)"
     },
     "execution_count": 21,
     "metadata": {},
     "output_type": "execute_result"
    }
   ],
   "source": [
    "sum(e.values())/len(e)"
   ],
   "metadata": {
    "collapsed": false
   }
  },
  {
   "cell_type": "code",
   "execution_count": 13,
   "outputs": [],
   "source": [
    "import os\n",
    "min_dif = 2\n",
    "min_dif_i = -1\n",
    "for i in range(34):\n",
    "    elements = [f for f in os.listdir('saved_models') if f.startswith(f\"test_generate_{i}_\")]\n",
    "    mod = Model()\n",
    "    mod.load_model(elements[0][:-3])\n",
    "    d = mod.predict_from_latex('4.tex')\n",
    "    e = mod.predict_from_latex('rn.tex')\n",
    "    dif = 1 - sum(d.values())/len(d) + sum(e.values())/len(e)\n",
    "    if dif < min_dif:\n",
    "        min_dif = dif\n",
    "        min_dif_i = i"
   ],
   "metadata": {
    "collapsed": false
   }
  },
  {
   "cell_type": "code",
   "execution_count": 14,
   "outputs": [
    {
     "data": {
      "text/plain": "np.float32(0.45248058)"
     },
     "execution_count": 14,
     "metadata": {},
     "output_type": "execute_result"
    }
   ],
   "source": [
    "min_dif"
   ],
   "metadata": {
    "collapsed": false
   }
  },
  {
   "cell_type": "code",
   "execution_count": 15,
   "outputs": [
    {
     "data": {
      "text/plain": "21"
     },
     "execution_count": 15,
     "metadata": {},
     "output_type": "execute_result"
    }
   ],
   "source": [
    "min_dif_i"
   ],
   "metadata": {
    "collapsed": false
   }
  },
  {
   "cell_type": "code",
   "execution_count": null,
   "outputs": [],
   "source": [],
   "metadata": {
    "collapsed": false
   }
  }
 ],
 "metadata": {
  "kernelspec": {
   "display_name": "Python 3",
   "language": "python",
   "name": "python3"
  },
  "language_info": {
   "codemirror_mode": {
    "name": "ipython",
    "version": 2
   },
   "file_extension": ".py",
   "mimetype": "text/x-python",
   "name": "python",
   "nbconvert_exporter": "python",
   "pygments_lexer": "ipython2",
   "version": "2.7.6"
  }
 },
 "nbformat": 4,
 "nbformat_minor": 0
}
