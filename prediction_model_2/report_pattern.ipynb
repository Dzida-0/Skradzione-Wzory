{
 "cells": [
  {
   "cell_type": "code",
   "outputs": [],
   "source": [
    "from IPython.display import Markdown, display, HTML\n",
    "import numpy as np\n",
    "import plotly.graph_objects as go\n",
    "from scipy.stats import gaussian_kde"
   ],
   "metadata": {
    "collapsed": false
   },
   "execution_count": null
  },
  {
   "cell_type": "code",
   "execution_count": null,
   "outputs": [],
   "source": [
    "data = {}"
   ],
   "metadata": {
    "collapsed": false
   }
  },
  {
   "cell_type": "code",
   "outputs": [],
   "source": [
    "HTML(f\"<script>document.title = 'Plagiat Report {data['data']['date']} {data['data']['hour']}';</script>\")"
   ],
   "metadata": {
    "collapsed": false
   }
  },
  {
   "cell_type": "markdown",
   "source": [],
   "metadata": {
    "collapsed": false
   }
  },
  {
   "cell_type": "markdown",
   "source": [],
   "metadata": {
    "collapsed": false
   }
  },
  {
   "cell_type": "code",
   "execution_count": null,
   "outputs": [],
   "source": [
    "display(Markdown(\"<h1 align = 'center'> Raport Plagiat </h1> \"))"
   ],
   "metadata": {
    "collapsed": false
   }
  },
  {
   "cell_type": "code",
   "execution_count": null,
   "outputs": [],
   "source": [
    "display(Markdown(f\"<h2 style='text-align: left;'> Date: {data['data']['date']}</h2>\"))\n",
    "display(Markdown(f\"<h2 style='text-align: left;'> Time: {data['data']['hour']}</h2>\"))\n",
    "display(Markdown(f\"<h2>File: {data['data']['file_name']}</h2>\"))\n",
    "display(Markdown(f\"<h2>Execution time: {round(data['data']['exec_time'],2)} s</h2>\"))\n",
    "display(Markdown(f\"<h2>Plagiat procent: {round(data['data']['proc_plagiat']*100,2)}%</h2>\"))\n",
    "display(Markdown(f\"<h2>Elements in test: {len(data['numbers'])}</h2>\"))\n",
    "if data['data']['row'] > 1:\n",
    "    display(Markdown(f\"<h2>Rows in one element: {data['data']['row']}</h2>\"))"
   ],
   "metadata": {
    "collapsed": false
   }
  },
  {
   "cell_type": "markdown",
   "source": [
    "<h1 align = 'center'> Results Plot </h1>"
   ],
   "metadata": {
    "collapsed": false
   }
  },
  {
   "cell_type": "code",
   "execution_count": null,
   "outputs": [],
   "source": [
    "fig = go.Figure()\n",
    "fig.add_trace(go.Scatter(\n",
    "    x=[i for i in range(len(data['numbers']))],\n",
    "    y=[n * 100 for n in data['numbers']],\n",
    "    mode='lines+markers',\n",
    "    name='Data Line'\n",
    "))\n",
    "fig.update_layout(\n",
    "    title='Probability of plagiat for given element',\n",
    "    xaxis_title='Index',\n",
    "    yaxis_title='Percentage (%)',\n",
    "    yaxis_tickformat=\".0f\",\n",
    "    xaxis=dict(rangeslider=dict(visible=True))\n",
    ")\n",
    "fig.show()"
   ],
   "metadata": {
    "collapsed": false
   }
  },
  {
   "cell_type": "markdown",
   "source": [
    "<h1 align = 'center'> Results Histogram </h1>"
   ],
   "metadata": {
    "collapsed": false
   }
  },
  {
   "cell_type": "code",
   "execution_count": null,
   "outputs": [],
   "source": [
    "bin_counts = [3,5,10,15,20,25]\n",
    "data = data['numbers']\n",
    "kde = gaussian_kde(data)\n",
    "x_kde = np.linspace(0, 1, 500)\n",
    "y_kde = kde(x_kde)\n",
    "\n",
    "fig = go.Figure()\n",
    "for bins in bin_counts:\n",
    "    fig.add_trace(\n",
    "        go.Histogram(\n",
    "            x=data,\n",
    "            nbinsx=bins,\n",
    "            visible=(bins == bin_counts[0]),  \n",
    "            name=f'{bins} bins',\n",
    "            opacity=0.6, \n",
    "        )\n",
    "    )\n",
    "\n",
    "\n",
    "fig.add_trace(\n",
    "    go.Scatter(\n",
    "        x=x_kde,\n",
    "        y=y_kde * len(data),  \n",
    "        mode='lines',\n",
    "        name='KDE',\n",
    "        line=dict(color='red', width=2),\n",
    "        visible=True,  \n",
    "    )\n",
    ")\n",
    "\n",
    "\n",
    "steps = []\n",
    "for i, bins in enumerate(bin_counts):\n",
    "    step = dict(\n",
    "        method='update',\n",
    "        args=[\n",
    "            {\n",
    "                'visible': [j == i for j in range(len(bin_counts))] + [True]  \n",
    "            },\n",
    "            {'title': f'Histogram with {bins} bins'}\n",
    "        ],\n",
    "        label=f'{bins} bins'\n",
    "    )\n",
    "    steps.append(step)\n",
    "\n",
    "\n",
    "fig.update_layout(\n",
    "    sliders=[\n",
    "        dict(\n",
    "            active=0,\n",
    "            currentvalue={\"prefix\": \"Bins: \"},\n",
    "            pad={\"t\": 50},\n",
    "            steps=steps\n",
    "        )\n",
    "    ],\n",
    "    title='Histogram of Results',\n",
    "    xaxis_title='Value',\n",
    "    yaxis_title='Frequency',\n",
    "    barmode='overlay' ,\n",
    "    xaxis=dict(range=[0.0, 1.0],dtick = 0.05)\n",
    ")\n",
    "\n",
    "\n",
    "fig.show()\n"
   ],
   "metadata": {
    "collapsed": false
   }
  }
 ],
 "metadata": {
  "kernelspec": {
   "display_name": "Python 3",
   "language": "python",
   "name": "python3"
  },
  "language_info": {
   "codemirror_mode": {
    "name": "ipython",
    "version": 2
   },
   "file_extension": ".py",
   "mimetype": "text/x-python",
   "name": "python",
   "nbconvert_exporter": "python",
   "pygments_lexer": "ipython2",
   "version": "2.7.6"
  }
 },
 "nbformat": 4,
 "nbformat_minor": 0
}
